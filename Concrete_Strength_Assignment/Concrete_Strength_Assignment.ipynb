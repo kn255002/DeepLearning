{
  "nbformat": 4,
  "nbformat_minor": 0,
  "metadata": {
    "kernelspec": {
      "display_name": "Python 3",
      "language": "python",
      "name": "python3"
    },
    "language_info": {
      "codemirror_mode": {
        "name": "ipython",
        "version": 3
      },
      "file_extension": ".py",
      "mimetype": "text/x-python",
      "name": "python",
      "nbconvert_exporter": "python",
      "pygments_lexer": "ipython3",
      "version": "3.7.3"
    },
    "colab": {
      "name": "Concrete_Strength_Assignment.ipynb",
      "provenance": [],
      "collapsed_sections": [
        "9E8PRVHF5ID0",
        "vVoaO91m5ID9",
        "PrYIeESrF1mg"
      ]
    }
  },
  "cells": [
    {
      "cell_type": "markdown",
      "metadata": {
        "id": "9E8PRVHF5ID0"
      },
      "source": [
        "# Assignment: Compresive Strength Concrete Problem\n",
        "\n",
        "\n",
        "### Abstract: \n",
        "\n",
        "Concrete is the most important material in civil engineering. The concrete compressive strength (concrete strength to bear the load) is a highly nonlinear function of age and ingredients.  <br><br>\n",
        "\n",
        "<table border=\"1\"  cellpadding=\"6\" bordercolor=\"red\">\n",
        "\t<tbody>\n",
        "        <tr>\n",
        "\t\t<td bgcolor=\"#DDEEFF\"><p class=\"normal\"><b>Data Set Characteristics:&nbsp;&nbsp;</b></p></td>\n",
        "\t\t<td><p class=\"normal\">Multivariate</p></td>\n",
        "\t\t<td bgcolor=\"#DDEEFF\"><p class=\"normal\"><b>Number of Instances:</b></p></td>\n",
        "\t\t<td><p class=\"normal\">1030</p></td>\n",
        "\t\t<td bgcolor=\"#DDEEFF\"><p class=\"normal\"><b>Area:</b></p></td>\n",
        "\t\t<td><p class=\"normal\">Physical</p></td>\n",
        "        </tr>\n",
        "     </tbody>\n",
        "    </table>\n",
        "<table border=\"1\" cellpadding=\"6\">\n",
        "    <tbody>\n",
        "        <tr>\n",
        "            <td bgcolor=\"#DDEEFF\"><p class=\"normal\"><b>Attribute Characteristics:</b></p></td>\n",
        "            <td><p class=\"normal\">Real</p></td>\n",
        "            <td bgcolor=\"#DDEEFF\"><p class=\"normal\"><b>Number of Attributes:</b></p></td>\n",
        "            <td><p class=\"normal\">9</p></td>\n",
        "            <td bgcolor=\"#DDEEFF\"><p class=\"normal\"><b>Date Donated</b></p></td>\n",
        "            <td><p class=\"normal\">2007-08-03</p></td>\n",
        "        </tr>\n",
        "     </tbody>\n",
        "    </table>\n",
        "<table border=\"1\" cellpadding=\"6\">\t\n",
        "    <tbody>\n",
        "    <tr>\n",
        "\t\t<td bgcolor=\"#DDEEFF\"><p class=\"normal\"><b>Associated Tasks:</b></p></td>\n",
        "\t\t<td><p class=\"normal\">Regression</p></td>\n",
        "\t\t<td bgcolor=\"#DDEEFF\"><p class=\"normal\"><b>Missing Values?</b></p></td>\n",
        "\t\t<td><p class=\"normal\">N/A</p></td>\n",
        "\t\t<td bgcolor=\"#DDEEFF\"><p class=\"normal\"><b>Number of Web Hits:</b></p></td>\n",
        "\t\t<td><p class=\"normal\">231464</p></td>\n",
        "\t</tr>\n",
        "    </tbody>\n",
        "    </table>"
      ]
    },
    {
      "cell_type": "markdown",
      "metadata": {
        "id": "vVoaO91m5ID9"
      },
      "source": [
        "###  Description:\n",
        "| Features Name | Data Type | Measurement | Description |\n",
        "| -- | -- | -- | -- |\n",
        "Cement (component 1) | quantitative | kg in a m3 mixture | Input Variable\n",
        "Blast Furnace Slag (component 2) | quantitative | kg in a m3 mixture | Input Variable\n",
        "Fly Ash (component 3) | quantitative | kg in a m3 mixture | Input Variable\n",
        "Water (component 4) | quantitative | kg in a m3 mixture | Input Variable\n",
        "Superplasticizer (component 5) | quantitative | kg in a m3 mixture | Input Variable\n",
        "Coarse Aggregate (component 6) | quantitative | kg in a m3 mixture | Input Variable\n",
        "Fine Aggregate (component 7) | quantitative | kg in a m3 mixture | Input Variable\n",
        "Age | quantitative | Day (1~365) | Input Variable\n",
        "Concrete compressive strength | quantitative | MPa | Output Variable\n",
        "\n",
        "### WORKFLOW :\n",
        "- Load Data\n",
        "- Check Missing Values ( If Exist ; Fill each record with mean of its feature )\n",
        "- Standardized the Input Variables. **Hint**: Centeralized the data\n",
        "- Split into 50% Training(Samples,Labels) , 30% Test(Samples,Labels) and 20% Validation Data(Samples,Labels).\n",
        "- Model : input Layer (No. of features ), 3 hidden layers including 10,8,6 unit & Output Layer with activation function relu/tanh (check by experiment).\n",
        "- Compilation Step (Note : Its a Regression problem , select loss , metrics according to it)\n",
        "- Train the Model with Epochs (100) and validate it\n",
        "- If the model gets overfit tune your model by changing the units , No. of layers , activation function , epochs , add dropout layer or add Regularizer according to the need .\n",
        "- Evaluation Step\n",
        "- Prediction\n"
      ]
    },
    {
      "cell_type": "code",
      "metadata": {
        "id": "DQus4jyA5ID_"
      },
      "source": [
        ""
      ],
      "execution_count": 128,
      "outputs": []
    },
    {
      "cell_type": "code",
      "metadata": {
        "id": "DA2do8PN7fcI"
      },
      "source": [
        ""
      ],
      "execution_count": 128,
      "outputs": []
    },
    {
      "cell_type": "markdown",
      "metadata": {
        "id": "PrYIeESrF1mg"
      },
      "source": [
        "# 1. Load Data\n",
        "Loading and immediately shuffeling Data frame.\n",
        "[Click Here to Download DataSet](https://github.com/ramsha275/ML_Datasets/blob/main/compresive_strength_concrete.csv)"
      ]
    },
    {
      "cell_type": "code",
      "metadata": {
        "colab": {
          "resources": {
            "http://localhost:8080/nbextensions/google.colab/files.js": {
              "data": "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",
              "ok": true,
              "headers": [
                [
                  "content-type",
                  "application/javascript"
                ]
              ],
              "status": 200,
              "status_text": ""
            }
          },
          "base_uri": "https://localhost:8080/",
          "height": 73
        },
        "id": "IYrznO9b7gCJ",
        "outputId": "92e3312c-d3bc-4ea5-8c22-a1e6719f78e1"
      },
      "source": [
        "# Prediction Model developed by:\n",
        "# Khurram Nazir\n",
        "#  \n",
        "#\n",
        "import pandas as pd\n",
        "import numpy as np\n",
        "import seaborn as sns\n",
        "#\n",
        "\n",
        "import io\n",
        "from google.colab import files\n",
        "\n",
        "uploaded_file = files.upload()\n",
        "#df = pd.read_csv(\"C:\\Users\\khurr\\Documents\\GitHub\\AI-Engineering\\PIAIC\\Quarter-2\\DeepLearning\\compresive_strength_concrete.csv\",sep=',')\n",
        "df = pd.DataFrame(pd.read_csv(io.BytesIO(uploaded_file['compresive_strength_concrete.csv']),sep=','))"
      ],
      "execution_count": 129,
      "outputs": [
        {
          "output_type": "display_data",
          "data": {
            "text/html": [
              "\n",
              "     <input type=\"file\" id=\"files-c3c4c386-ea25-402d-bf87-83265135eee3\" name=\"files[]\" multiple disabled\n",
              "        style=\"border:none\" />\n",
              "     <output id=\"result-c3c4c386-ea25-402d-bf87-83265135eee3\">\n",
              "      Upload widget is only available when the cell has been executed in the\n",
              "      current browser session. Please rerun this cell to enable.\n",
              "      </output>\n",
              "      <script src=\"/nbextensions/google.colab/files.js\"></script> "
            ],
            "text/plain": [
              "<IPython.core.display.HTML object>"
            ]
          },
          "metadata": {
            "tags": []
          }
        },
        {
          "output_type": "stream",
          "text": [
            "Saving compresive_strength_concrete.csv to compresive_strength_concrete (6).csv\n"
          ],
          "name": "stdout"
        }
      ]
    },
    {
      "cell_type": "code",
      "metadata": {
        "colab": {
          "base_uri": "https://localhost:8080/",
          "height": 454
        },
        "id": "Y5RiQZUK7gGc",
        "outputId": "944f3b47-3b70-4502-c670-aacab025050c"
      },
      "source": [
        "df = df.sample(frac=1) #Shuffeling DF.\n",
        "df"
      ],
      "execution_count": 130,
      "outputs": [
        {
          "output_type": "execute_result",
          "data": {
            "text/html": [
              "<div>\n",
              "<style scoped>\n",
              "    .dataframe tbody tr th:only-of-type {\n",
              "        vertical-align: middle;\n",
              "    }\n",
              "\n",
              "    .dataframe tbody tr th {\n",
              "        vertical-align: top;\n",
              "    }\n",
              "\n",
              "    .dataframe thead th {\n",
              "        text-align: right;\n",
              "    }\n",
              "</style>\n",
              "<table border=\"1\" class=\"dataframe\">\n",
              "  <thead>\n",
              "    <tr style=\"text-align: right;\">\n",
              "      <th></th>\n",
              "      <th>Cement (component 1)(kg in a m^3 mixture)</th>\n",
              "      <th>Blast Furnace Slag (component 2)(kg in a m^3 mixture)</th>\n",
              "      <th>Fly Ash (component 3)(kg in a m^3 mixture)</th>\n",
              "      <th>Water  (component 4)(kg in a m^3 mixture)</th>\n",
              "      <th>Superplasticizer (component 5)(kg in a m^3 mixture)</th>\n",
              "      <th>Coarse Aggregate  (component 6)(kg in a m^3 mixture)</th>\n",
              "      <th>Fine Aggregate (component 7)(kg in a m^3 mixture)</th>\n",
              "      <th>Age (day)</th>\n",
              "      <th>Concrete compressive strength(MPa, megapascals)</th>\n",
              "    </tr>\n",
              "  </thead>\n",
              "  <tbody>\n",
              "    <tr>\n",
              "      <th>856</th>\n",
              "      <td>356.0</td>\n",
              "      <td>0.0</td>\n",
              "      <td>142.0</td>\n",
              "      <td>193.0</td>\n",
              "      <td>11.0</td>\n",
              "      <td>801.0</td>\n",
              "      <td>778.0</td>\n",
              "      <td>28</td>\n",
              "      <td>40.87</td>\n",
              "    </tr>\n",
              "    <tr>\n",
              "      <th>217</th>\n",
              "      <td>190.3</td>\n",
              "      <td>0.0</td>\n",
              "      <td>125.2</td>\n",
              "      <td>161.9</td>\n",
              "      <td>9.9</td>\n",
              "      <td>1088.1</td>\n",
              "      <td>802.6</td>\n",
              "      <td>56</td>\n",
              "      <td>38.56</td>\n",
              "    </tr>\n",
              "    <tr>\n",
              "      <th>12</th>\n",
              "      <td>427.5</td>\n",
              "      <td>47.5</td>\n",
              "      <td>0.0</td>\n",
              "      <td>228.0</td>\n",
              "      <td>0.0</td>\n",
              "      <td>932.0</td>\n",
              "      <td>594.0</td>\n",
              "      <td>270</td>\n",
              "      <td>43.01</td>\n",
              "    </tr>\n",
              "    <tr>\n",
              "      <th>268</th>\n",
              "      <td>212.0</td>\n",
              "      <td>0.0</td>\n",
              "      <td>124.8</td>\n",
              "      <td>159.0</td>\n",
              "      <td>7.8</td>\n",
              "      <td>1085.4</td>\n",
              "      <td>799.5</td>\n",
              "      <td>100</td>\n",
              "      <td>47.82</td>\n",
              "    </tr>\n",
              "    <tr>\n",
              "      <th>657</th>\n",
              "      <td>108.3</td>\n",
              "      <td>162.4</td>\n",
              "      <td>0.0</td>\n",
              "      <td>203.5</td>\n",
              "      <td>0.0</td>\n",
              "      <td>938.2</td>\n",
              "      <td>849.0</td>\n",
              "      <td>28</td>\n",
              "      <td>20.59</td>\n",
              "    </tr>\n",
              "    <tr>\n",
              "      <th>...</th>\n",
              "      <td>...</td>\n",
              "      <td>...</td>\n",
              "      <td>...</td>\n",
              "      <td>...</td>\n",
              "      <td>...</td>\n",
              "      <td>...</td>\n",
              "      <td>...</td>\n",
              "      <td>...</td>\n",
              "      <td>...</td>\n",
              "    </tr>\n",
              "    <tr>\n",
              "      <th>611</th>\n",
              "      <td>277.0</td>\n",
              "      <td>0.0</td>\n",
              "      <td>0.0</td>\n",
              "      <td>191.0</td>\n",
              "      <td>0.0</td>\n",
              "      <td>968.0</td>\n",
              "      <td>856.0</td>\n",
              "      <td>14</td>\n",
              "      <td>21.26</td>\n",
              "    </tr>\n",
              "    <tr>\n",
              "      <th>392</th>\n",
              "      <td>333.0</td>\n",
              "      <td>17.5</td>\n",
              "      <td>163.0</td>\n",
              "      <td>167.0</td>\n",
              "      <td>17.9</td>\n",
              "      <td>996.0</td>\n",
              "      <td>652.0</td>\n",
              "      <td>28</td>\n",
              "      <td>47.28</td>\n",
              "    </tr>\n",
              "    <tr>\n",
              "      <th>575</th>\n",
              "      <td>238.1</td>\n",
              "      <td>0.0</td>\n",
              "      <td>0.0</td>\n",
              "      <td>185.7</td>\n",
              "      <td>0.0</td>\n",
              "      <td>1118.8</td>\n",
              "      <td>789.3</td>\n",
              "      <td>28</td>\n",
              "      <td>17.58</td>\n",
              "    </tr>\n",
              "    <tr>\n",
              "      <th>84</th>\n",
              "      <td>323.7</td>\n",
              "      <td>282.8</td>\n",
              "      <td>0.0</td>\n",
              "      <td>183.8</td>\n",
              "      <td>10.3</td>\n",
              "      <td>942.7</td>\n",
              "      <td>659.9</td>\n",
              "      <td>3</td>\n",
              "      <td>28.30</td>\n",
              "    </tr>\n",
              "    <tr>\n",
              "      <th>503</th>\n",
              "      <td>491.0</td>\n",
              "      <td>26.0</td>\n",
              "      <td>123.0</td>\n",
              "      <td>210.0</td>\n",
              "      <td>3.9</td>\n",
              "      <td>882.0</td>\n",
              "      <td>699.0</td>\n",
              "      <td>56</td>\n",
              "      <td>59.59</td>\n",
              "    </tr>\n",
              "  </tbody>\n",
              "</table>\n",
              "<p>1030 rows × 9 columns</p>\n",
              "</div>"
            ],
            "text/plain": [
              "     Cement (component 1)(kg in a m^3 mixture)  ...  Concrete compressive strength(MPa, megapascals) \n",
              "856                                      356.0  ...                                             40.87\n",
              "217                                      190.3  ...                                             38.56\n",
              "12                                       427.5  ...                                             43.01\n",
              "268                                      212.0  ...                                             47.82\n",
              "657                                      108.3  ...                                             20.59\n",
              "..                                         ...  ...                                               ...\n",
              "611                                      277.0  ...                                             21.26\n",
              "392                                      333.0  ...                                             47.28\n",
              "575                                      238.1  ...                                             17.58\n",
              "84                                       323.7  ...                                             28.30\n",
              "503                                      491.0  ...                                             59.59\n",
              "\n",
              "[1030 rows x 9 columns]"
            ]
          },
          "metadata": {
            "tags": []
          },
          "execution_count": 130
        }
      ]
    },
    {
      "cell_type": "code",
      "metadata": {
        "id": "CiGO2FeC7gI7"
      },
      "source": [
        "def df_lookslike(v_df):\n",
        "    #---------------------------------------How dataframe looks like?\n",
        "    v_df.info()\n",
        "    print(v_df.head(5))\n",
        "    total_cells=np.product(v_df.shape)\n",
        "    num_col = [i for i in v_df.columns if (v_df[i].dtype=='int64' or v_df[i].dtype=='float64')]\n",
        "    print(v_df[num_col].describe().loc[['min','max', 'mean','50%'],:]) #How big is Messy data?\n",
        "    missing_Values=v_df.isnull().sum()\n",
        "    print(missing_Values)\n",
        "    total_missing=missing_Values.sum()\n",
        "\n",
        "    #Percent of Missing data\n",
        "    print(\"Percent of data is missing:\",((total_missing/total_cells) * 100))\n",
        "   "
      ],
      "execution_count": 131,
      "outputs": []
    },
    {
      "cell_type": "markdown",
      "metadata": {
        "id": "wL4RDLrTF1mh"
      },
      "source": [
        "# 2. Check Missing Values\n",
        "( If Exist ; Fill each record with mean of its feature )\n",
        "\n",
        "I found there is NO missing/NULL data."
      ]
    },
    {
      "cell_type": "code",
      "metadata": {
        "colab": {
          "base_uri": "https://localhost:8080/"
        },
        "id": "ntX1Msys8DL9",
        "outputId": "76538226-c17e-4096-d2bc-bd71f59dd105"
      },
      "source": [
        "df_lookslike(df)# How DF looks like?"
      ],
      "execution_count": 132,
      "outputs": [
        {
          "output_type": "stream",
          "text": [
            "<class 'pandas.core.frame.DataFrame'>\n",
            "Int64Index: 1030 entries, 856 to 503\n",
            "Data columns (total 9 columns):\n",
            " #   Column                                                 Non-Null Count  Dtype  \n",
            "---  ------                                                 --------------  -----  \n",
            " 0   Cement (component 1)(kg in a m^3 mixture)              1030 non-null   float64\n",
            " 1   Blast Furnace Slag (component 2)(kg in a m^3 mixture)  1030 non-null   float64\n",
            " 2   Fly Ash (component 3)(kg in a m^3 mixture)             1030 non-null   float64\n",
            " 3   Water  (component 4)(kg in a m^3 mixture)              1030 non-null   float64\n",
            " 4   Superplasticizer (component 5)(kg in a m^3 mixture)    1030 non-null   float64\n",
            " 5   Coarse Aggregate  (component 6)(kg in a m^3 mixture)   1030 non-null   float64\n",
            " 6   Fine Aggregate (component 7)(kg in a m^3 mixture)      1030 non-null   float64\n",
            " 7   Age (day)                                              1030 non-null   int64  \n",
            " 8   Concrete compressive strength(MPa, megapascals)        1030 non-null   float64\n",
            "dtypes: float64(8), int64(1)\n",
            "memory usage: 80.5 KB\n",
            "     Cement (component 1)(kg in a m^3 mixture)  ...  Concrete compressive strength(MPa, megapascals) \n",
            "856                                      356.0  ...                                             40.87\n",
            "217                                      190.3  ...                                             38.56\n",
            "12                                       427.5  ...                                             43.01\n",
            "268                                      212.0  ...                                             47.82\n",
            "657                                      108.3  ...                                             20.59\n",
            "\n",
            "[5 rows x 9 columns]\n",
            "      Cement (component 1)(kg in a m^3 mixture)  ...  Concrete compressive strength(MPa, megapascals) \n",
            "min                                  102.000000  ...                                          2.330000\n",
            "max                                  540.000000  ...                                         82.600000\n",
            "mean                                 281.167864  ...                                         35.817961\n",
            "50%                                  272.900000  ...                                         34.445000\n",
            "\n",
            "[4 rows x 9 columns]\n",
            "Cement (component 1)(kg in a m^3 mixture)                0\n",
            "Blast Furnace Slag (component 2)(kg in a m^3 mixture)    0\n",
            "Fly Ash (component 3)(kg in a m^3 mixture)               0\n",
            "Water  (component 4)(kg in a m^3 mixture)                0\n",
            "Superplasticizer (component 5)(kg in a m^3 mixture)      0\n",
            "Coarse Aggregate  (component 6)(kg in a m^3 mixture)     0\n",
            "Fine Aggregate (component 7)(kg in a m^3 mixture)        0\n",
            "Age (day)                                                0\n",
            "Concrete compressive strength(MPa, megapascals)          0\n",
            "dtype: int64\n",
            "Percent of data is missing: 0.0\n"
          ],
          "name": "stdout"
        }
      ]
    },
    {
      "cell_type": "markdown",
      "metadata": {
        "id": "AIAzLn0X8X3u"
      },
      "source": [
        "**Preparing Tensor & Feature Engineering**\n",
        "\n",
        "We have all data in Float and Int form. There is no character data.\n",
        "Hence No need to perform OneHotEncoding."
      ]
    },
    {
      "cell_type": "code",
      "metadata": {
        "colab": {
          "base_uri": "https://localhost:8080/",
          "height": 404
        },
        "id": "KhPq3Jc89eM5",
        "outputId": "c1fb7e3c-c8ca-46f4-cb38-ff3ed2986e2c"
      },
      "source": [
        "#Lets assign alias to columns.\n",
        "df2 = df.set_axis(['Cement', 'Bl_F_Slag', 'Fly_Ash', 'Water', 'S_plast','Coarse_Agg','Fine_Agg','Age_day','Concrete_target'], axis=1, inplace=False)\n",
        "df2"
      ],
      "execution_count": 133,
      "outputs": [
        {
          "output_type": "execute_result",
          "data": {
            "text/html": [
              "<div>\n",
              "<style scoped>\n",
              "    .dataframe tbody tr th:only-of-type {\n",
              "        vertical-align: middle;\n",
              "    }\n",
              "\n",
              "    .dataframe tbody tr th {\n",
              "        vertical-align: top;\n",
              "    }\n",
              "\n",
              "    .dataframe thead th {\n",
              "        text-align: right;\n",
              "    }\n",
              "</style>\n",
              "<table border=\"1\" class=\"dataframe\">\n",
              "  <thead>\n",
              "    <tr style=\"text-align: right;\">\n",
              "      <th></th>\n",
              "      <th>Cement</th>\n",
              "      <th>Bl_F_Slag</th>\n",
              "      <th>Fly_Ash</th>\n",
              "      <th>Water</th>\n",
              "      <th>S_plast</th>\n",
              "      <th>Coarse_Agg</th>\n",
              "      <th>Fine_Agg</th>\n",
              "      <th>Age_day</th>\n",
              "      <th>Concrete_target</th>\n",
              "    </tr>\n",
              "  </thead>\n",
              "  <tbody>\n",
              "    <tr>\n",
              "      <th>856</th>\n",
              "      <td>356.0</td>\n",
              "      <td>0.0</td>\n",
              "      <td>142.0</td>\n",
              "      <td>193.0</td>\n",
              "      <td>11.0</td>\n",
              "      <td>801.0</td>\n",
              "      <td>778.0</td>\n",
              "      <td>28</td>\n",
              "      <td>40.87</td>\n",
              "    </tr>\n",
              "    <tr>\n",
              "      <th>217</th>\n",
              "      <td>190.3</td>\n",
              "      <td>0.0</td>\n",
              "      <td>125.2</td>\n",
              "      <td>161.9</td>\n",
              "      <td>9.9</td>\n",
              "      <td>1088.1</td>\n",
              "      <td>802.6</td>\n",
              "      <td>56</td>\n",
              "      <td>38.56</td>\n",
              "    </tr>\n",
              "    <tr>\n",
              "      <th>12</th>\n",
              "      <td>427.5</td>\n",
              "      <td>47.5</td>\n",
              "      <td>0.0</td>\n",
              "      <td>228.0</td>\n",
              "      <td>0.0</td>\n",
              "      <td>932.0</td>\n",
              "      <td>594.0</td>\n",
              "      <td>270</td>\n",
              "      <td>43.01</td>\n",
              "    </tr>\n",
              "    <tr>\n",
              "      <th>268</th>\n",
              "      <td>212.0</td>\n",
              "      <td>0.0</td>\n",
              "      <td>124.8</td>\n",
              "      <td>159.0</td>\n",
              "      <td>7.8</td>\n",
              "      <td>1085.4</td>\n",
              "      <td>799.5</td>\n",
              "      <td>100</td>\n",
              "      <td>47.82</td>\n",
              "    </tr>\n",
              "    <tr>\n",
              "      <th>657</th>\n",
              "      <td>108.3</td>\n",
              "      <td>162.4</td>\n",
              "      <td>0.0</td>\n",
              "      <td>203.5</td>\n",
              "      <td>0.0</td>\n",
              "      <td>938.2</td>\n",
              "      <td>849.0</td>\n",
              "      <td>28</td>\n",
              "      <td>20.59</td>\n",
              "    </tr>\n",
              "    <tr>\n",
              "      <th>...</th>\n",
              "      <td>...</td>\n",
              "      <td>...</td>\n",
              "      <td>...</td>\n",
              "      <td>...</td>\n",
              "      <td>...</td>\n",
              "      <td>...</td>\n",
              "      <td>...</td>\n",
              "      <td>...</td>\n",
              "      <td>...</td>\n",
              "    </tr>\n",
              "    <tr>\n",
              "      <th>611</th>\n",
              "      <td>277.0</td>\n",
              "      <td>0.0</td>\n",
              "      <td>0.0</td>\n",
              "      <td>191.0</td>\n",
              "      <td>0.0</td>\n",
              "      <td>968.0</td>\n",
              "      <td>856.0</td>\n",
              "      <td>14</td>\n",
              "      <td>21.26</td>\n",
              "    </tr>\n",
              "    <tr>\n",
              "      <th>392</th>\n",
              "      <td>333.0</td>\n",
              "      <td>17.5</td>\n",
              "      <td>163.0</td>\n",
              "      <td>167.0</td>\n",
              "      <td>17.9</td>\n",
              "      <td>996.0</td>\n",
              "      <td>652.0</td>\n",
              "      <td>28</td>\n",
              "      <td>47.28</td>\n",
              "    </tr>\n",
              "    <tr>\n",
              "      <th>575</th>\n",
              "      <td>238.1</td>\n",
              "      <td>0.0</td>\n",
              "      <td>0.0</td>\n",
              "      <td>185.7</td>\n",
              "      <td>0.0</td>\n",
              "      <td>1118.8</td>\n",
              "      <td>789.3</td>\n",
              "      <td>28</td>\n",
              "      <td>17.58</td>\n",
              "    </tr>\n",
              "    <tr>\n",
              "      <th>84</th>\n",
              "      <td>323.7</td>\n",
              "      <td>282.8</td>\n",
              "      <td>0.0</td>\n",
              "      <td>183.8</td>\n",
              "      <td>10.3</td>\n",
              "      <td>942.7</td>\n",
              "      <td>659.9</td>\n",
              "      <td>3</td>\n",
              "      <td>28.30</td>\n",
              "    </tr>\n",
              "    <tr>\n",
              "      <th>503</th>\n",
              "      <td>491.0</td>\n",
              "      <td>26.0</td>\n",
              "      <td>123.0</td>\n",
              "      <td>210.0</td>\n",
              "      <td>3.9</td>\n",
              "      <td>882.0</td>\n",
              "      <td>699.0</td>\n",
              "      <td>56</td>\n",
              "      <td>59.59</td>\n",
              "    </tr>\n",
              "  </tbody>\n",
              "</table>\n",
              "<p>1030 rows × 9 columns</p>\n",
              "</div>"
            ],
            "text/plain": [
              "     Cement  Bl_F_Slag  Fly_Ash  ...  Fine_Agg  Age_day  Concrete_target\n",
              "856   356.0        0.0    142.0  ...     778.0       28            40.87\n",
              "217   190.3        0.0    125.2  ...     802.6       56            38.56\n",
              "12    427.5       47.5      0.0  ...     594.0      270            43.01\n",
              "268   212.0        0.0    124.8  ...     799.5      100            47.82\n",
              "657   108.3      162.4      0.0  ...     849.0       28            20.59\n",
              "..      ...        ...      ...  ...       ...      ...              ...\n",
              "611   277.0        0.0      0.0  ...     856.0       14            21.26\n",
              "392   333.0       17.5    163.0  ...     652.0       28            47.28\n",
              "575   238.1        0.0      0.0  ...     789.3       28            17.58\n",
              "84    323.7      282.8      0.0  ...     659.9        3            28.30\n",
              "503   491.0       26.0    123.0  ...     699.0       56            59.59\n",
              "\n",
              "[1030 rows x 9 columns]"
            ]
          },
          "metadata": {
            "tags": []
          },
          "execution_count": 133
        }
      ]
    },
    {
      "cell_type": "code",
      "metadata": {
        "colab": {
          "base_uri": "https://localhost:8080/",
          "height": 1000
        },
        "id": "J2wfrWNH84UI",
        "outputId": "5a57e381-8a82-4186-b6c1-a67d60ebb6bc"
      },
      "source": [
        "import seaborn as sns\n",
        "import matplotlib.pyplot as plt\n",
        "\n",
        "corrmat = df2.corr(method='pearson',min_periods=5) #pearson : standard correlation coefficient,\n",
        "top_corr_features = corrmat.index\n",
        "plt.figure(figsize=(30,30))\n",
        "g=sns.heatmap(df2[top_corr_features].corr(),annot=True,cmap=\"RdYlGn\")"
      ],
      "execution_count": 134,
      "outputs": [
        {
          "output_type": "display_data",
          "data": {
            "image/png": "[encoded data removed]",
            "text/plain": [
              "<Figure size 2160x2160 with 2 Axes>"
            ]
          },
          "metadata": {
            "tags": [],
            "needs_background": "light"
          }
        }
      ]
    },
    {
      "cell_type": "code",
      "metadata": {
        "colab": {
          "base_uri": "https://localhost:8080/",
          "height": 196
        },
        "id": "df0rhsjvOy4m",
        "outputId": "4b815b82-d1ef-46a5-a97c-6fc0efc2b052"
      },
      "source": [
        "df2.head()"
      ],
      "execution_count": 135,
      "outputs": [
        {
          "output_type": "execute_result",
          "data": {
            "text/html": [
              "<div>\n",
              "<style scoped>\n",
              "    .dataframe tbody tr th:only-of-type {\n",
              "        vertical-align: middle;\n",
              "    }\n",
              "\n",
              "    .dataframe tbody tr th {\n",
              "        vertical-align: top;\n",
              "    }\n",
              "\n",
              "    .dataframe thead th {\n",
              "        text-align: right;\n",
              "    }\n",
              "</style>\n",
              "<table border=\"1\" class=\"dataframe\">\n",
              "  <thead>\n",
              "    <tr style=\"text-align: right;\">\n",
              "      <th></th>\n",
              "      <th>Cement</th>\n",
              "      <th>Bl_F_Slag</th>\n",
              "      <th>Fly_Ash</th>\n",
              "      <th>Water</th>\n",
              "      <th>S_plast</th>\n",
              "      <th>Coarse_Agg</th>\n",
              "      <th>Fine_Agg</th>\n",
              "      <th>Age_day</th>\n",
              "      <th>Concrete_target</th>\n",
              "    </tr>\n",
              "  </thead>\n",
              "  <tbody>\n",
              "    <tr>\n",
              "      <th>856</th>\n",
              "      <td>356.0</td>\n",
              "      <td>0.0</td>\n",
              "      <td>142.0</td>\n",
              "      <td>193.0</td>\n",
              "      <td>11.0</td>\n",
              "      <td>801.0</td>\n",
              "      <td>778.0</td>\n",
              "      <td>28</td>\n",
              "      <td>40.87</td>\n",
              "    </tr>\n",
              "    <tr>\n",
              "      <th>217</th>\n",
              "      <td>190.3</td>\n",
              "      <td>0.0</td>\n",
              "      <td>125.2</td>\n",
              "      <td>161.9</td>\n",
              "      <td>9.9</td>\n",
              "      <td>1088.1</td>\n",
              "      <td>802.6</td>\n",
              "      <td>56</td>\n",
              "      <td>38.56</td>\n",
              "    </tr>\n",
              "    <tr>\n",
              "      <th>12</th>\n",
              "      <td>427.5</td>\n",
              "      <td>47.5</td>\n",
              "      <td>0.0</td>\n",
              "      <td>228.0</td>\n",
              "      <td>0.0</td>\n",
              "      <td>932.0</td>\n",
              "      <td>594.0</td>\n",
              "      <td>270</td>\n",
              "      <td>43.01</td>\n",
              "    </tr>\n",
              "    <tr>\n",
              "      <th>268</th>\n",
              "      <td>212.0</td>\n",
              "      <td>0.0</td>\n",
              "      <td>124.8</td>\n",
              "      <td>159.0</td>\n",
              "      <td>7.8</td>\n",
              "      <td>1085.4</td>\n",
              "      <td>799.5</td>\n",
              "      <td>100</td>\n",
              "      <td>47.82</td>\n",
              "    </tr>\n",
              "    <tr>\n",
              "      <th>657</th>\n",
              "      <td>108.3</td>\n",
              "      <td>162.4</td>\n",
              "      <td>0.0</td>\n",
              "      <td>203.5</td>\n",
              "      <td>0.0</td>\n",
              "      <td>938.2</td>\n",
              "      <td>849.0</td>\n",
              "      <td>28</td>\n",
              "      <td>20.59</td>\n",
              "    </tr>\n",
              "  </tbody>\n",
              "</table>\n",
              "</div>"
            ],
            "text/plain": [
              "     Cement  Bl_F_Slag  Fly_Ash  ...  Fine_Agg  Age_day  Concrete_target\n",
              "856   356.0        0.0    142.0  ...     778.0       28            40.87\n",
              "217   190.3        0.0    125.2  ...     802.6       56            38.56\n",
              "12    427.5       47.5      0.0  ...     594.0      270            43.01\n",
              "268   212.0        0.0    124.8  ...     799.5      100            47.82\n",
              "657   108.3      162.4      0.0  ...     849.0       28            20.59\n",
              "\n",
              "[5 rows x 9 columns]"
            ]
          },
          "metadata": {
            "tags": []
          },
          "execution_count": 135
        }
      ]
    },
    {
      "cell_type": "code",
      "metadata": {
        "id": "9on1ZhfWPEHN"
      },
      "source": [
        "blast_mean = np.mean(df2.Bl_F_Slag)\n",
        "fly_mean = np.mean(df2.Fly_Ash)\n",
        "superplastic_mean = np.mean(df2.S_plast)\n"
      ],
      "execution_count": 136,
      "outputs": []
    },
    {
      "cell_type": "code",
      "metadata": {
        "colab": {
          "base_uri": "https://localhost:8080/",
          "height": 404
        },
        "id": "XXJj7f_xPIVK",
        "outputId": "79dc36eb-15f8-4ff0-c18a-47b1cad16ab7"
      },
      "source": [
        "df2.Bl_F_Slag=df2.Bl_F_Slag.mask(df2.Bl_F_Slag==0).fillna(blast_mean)\n",
        "df2.Fly_Ash=df2.Fly_Ash.mask(df2.Fly_Ash==0).fillna(fly_mean)\n",
        "df2.S_plast=df2.S_plast.mask(df2.S_plast==0).fillna(superplastic_mean)\n",
        "#\n",
        "df2"
      ],
      "execution_count": 137,
      "outputs": [
        {
          "output_type": "execute_result",
          "data": {
            "text/html": [
              "<div>\n",
              "<style scoped>\n",
              "    .dataframe tbody tr th:only-of-type {\n",
              "        vertical-align: middle;\n",
              "    }\n",
              "\n",
              "    .dataframe tbody tr th {\n",
              "        vertical-align: top;\n",
              "    }\n",
              "\n",
              "    .dataframe thead th {\n",
              "        text-align: right;\n",
              "    }\n",
              "</style>\n",
              "<table border=\"1\" class=\"dataframe\">\n",
              "  <thead>\n",
              "    <tr style=\"text-align: right;\">\n",
              "      <th></th>\n",
              "      <th>Cement</th>\n",
              "      <th>Bl_F_Slag</th>\n",
              "      <th>Fly_Ash</th>\n",
              "      <th>Water</th>\n",
              "      <th>S_plast</th>\n",
              "      <th>Coarse_Agg</th>\n",
              "      <th>Fine_Agg</th>\n",
              "      <th>Age_day</th>\n",
              "      <th>Concrete_target</th>\n",
              "    </tr>\n",
              "  </thead>\n",
              "  <tbody>\n",
              "    <tr>\n",
              "      <th>856</th>\n",
              "      <td>356.0</td>\n",
              "      <td>73.895825</td>\n",
              "      <td>142.00000</td>\n",
              "      <td>193.0</td>\n",
              "      <td>11.00000</td>\n",
              "      <td>801.0</td>\n",
              "      <td>778.0</td>\n",
              "      <td>28</td>\n",
              "      <td>40.87</td>\n",
              "    </tr>\n",
              "    <tr>\n",
              "      <th>217</th>\n",
              "      <td>190.3</td>\n",
              "      <td>73.895825</td>\n",
              "      <td>125.20000</td>\n",
              "      <td>161.9</td>\n",
              "      <td>9.90000</td>\n",
              "      <td>1088.1</td>\n",
              "      <td>802.6</td>\n",
              "      <td>56</td>\n",
              "      <td>38.56</td>\n",
              "    </tr>\n",
              "    <tr>\n",
              "      <th>12</th>\n",
              "      <td>427.5</td>\n",
              "      <td>47.500000</td>\n",
              "      <td>54.18835</td>\n",
              "      <td>228.0</td>\n",
              "      <td>6.20466</td>\n",
              "      <td>932.0</td>\n",
              "      <td>594.0</td>\n",
              "      <td>270</td>\n",
              "      <td>43.01</td>\n",
              "    </tr>\n",
              "    <tr>\n",
              "      <th>268</th>\n",
              "      <td>212.0</td>\n",
              "      <td>73.895825</td>\n",
              "      <td>124.80000</td>\n",
              "      <td>159.0</td>\n",
              "      <td>7.80000</td>\n",
              "      <td>1085.4</td>\n",
              "      <td>799.5</td>\n",
              "      <td>100</td>\n",
              "      <td>47.82</td>\n",
              "    </tr>\n",
              "    <tr>\n",
              "      <th>657</th>\n",
              "      <td>108.3</td>\n",
              "      <td>162.400000</td>\n",
              "      <td>54.18835</td>\n",
              "      <td>203.5</td>\n",
              "      <td>6.20466</td>\n",
              "      <td>938.2</td>\n",
              "      <td>849.0</td>\n",
              "      <td>28</td>\n",
              "      <td>20.59</td>\n",
              "    </tr>\n",
              "    <tr>\n",
              "      <th>...</th>\n",
              "      <td>...</td>\n",
              "      <td>...</td>\n",
              "      <td>...</td>\n",
              "      <td>...</td>\n",
              "      <td>...</td>\n",
              "      <td>...</td>\n",
              "      <td>...</td>\n",
              "      <td>...</td>\n",
              "      <td>...</td>\n",
              "    </tr>\n",
              "    <tr>\n",
              "      <th>611</th>\n",
              "      <td>277.0</td>\n",
              "      <td>73.895825</td>\n",
              "      <td>54.18835</td>\n",
              "      <td>191.0</td>\n",
              "      <td>6.20466</td>\n",
              "      <td>968.0</td>\n",
              "      <td>856.0</td>\n",
              "      <td>14</td>\n",
              "      <td>21.26</td>\n",
              "    </tr>\n",
              "    <tr>\n",
              "      <th>392</th>\n",
              "      <td>333.0</td>\n",
              "      <td>17.500000</td>\n",
              "      <td>163.00000</td>\n",
              "      <td>167.0</td>\n",
              "      <td>17.90000</td>\n",
              "      <td>996.0</td>\n",
              "      <td>652.0</td>\n",
              "      <td>28</td>\n",
              "      <td>47.28</td>\n",
              "    </tr>\n",
              "    <tr>\n",
              "      <th>575</th>\n",
              "      <td>238.1</td>\n",
              "      <td>73.895825</td>\n",
              "      <td>54.18835</td>\n",
              "      <td>185.7</td>\n",
              "      <td>6.20466</td>\n",
              "      <td>1118.8</td>\n",
              "      <td>789.3</td>\n",
              "      <td>28</td>\n",
              "      <td>17.58</td>\n",
              "    </tr>\n",
              "    <tr>\n",
              "      <th>84</th>\n",
              "      <td>323.7</td>\n",
              "      <td>282.800000</td>\n",
              "      <td>54.18835</td>\n",
              "      <td>183.8</td>\n",
              "      <td>10.30000</td>\n",
              "      <td>942.7</td>\n",
              "      <td>659.9</td>\n",
              "      <td>3</td>\n",
              "      <td>28.30</td>\n",
              "    </tr>\n",
              "    <tr>\n",
              "      <th>503</th>\n",
              "      <td>491.0</td>\n",
              "      <td>26.000000</td>\n",
              "      <td>123.00000</td>\n",
              "      <td>210.0</td>\n",
              "      <td>3.90000</td>\n",
              "      <td>882.0</td>\n",
              "      <td>699.0</td>\n",
              "      <td>56</td>\n",
              "      <td>59.59</td>\n",
              "    </tr>\n",
              "  </tbody>\n",
              "</table>\n",
              "<p>1030 rows × 9 columns</p>\n",
              "</div>"
            ],
            "text/plain": [
              "     Cement   Bl_F_Slag    Fly_Ash  ...  Fine_Agg  Age_day  Concrete_target\n",
              "856   356.0   73.895825  142.00000  ...     778.0       28            40.87\n",
              "217   190.3   73.895825  125.20000  ...     802.6       56            38.56\n",
              "12    427.5   47.500000   54.18835  ...     594.0      270            43.01\n",
              "268   212.0   73.895825  124.80000  ...     799.5      100            47.82\n",
              "657   108.3  162.400000   54.18835  ...     849.0       28            20.59\n",
              "..      ...         ...        ...  ...       ...      ...              ...\n",
              "611   277.0   73.895825   54.18835  ...     856.0       14            21.26\n",
              "392   333.0   17.500000  163.00000  ...     652.0       28            47.28\n",
              "575   238.1   73.895825   54.18835  ...     789.3       28            17.58\n",
              "84    323.7  282.800000   54.18835  ...     659.9        3            28.30\n",
              "503   491.0   26.000000  123.00000  ...     699.0       56            59.59\n",
              "\n",
              "[1030 rows x 9 columns]"
            ]
          },
          "metadata": {
            "tags": []
          },
          "execution_count": 137
        }
      ]
    },
    {
      "cell_type": "code",
      "metadata": {
        "id": "8TiiHcF8TPkr"
      },
      "source": [
        "\n",
        "Y=(df2.loc[:,df2.columns=='Concrete_target']) #Lets take Dependent Variable/Target in a serpate df i.e X.\n",
        "X=(df2.loc[:,df2.columns!='Concrete_target']) #Lets take Independent Variables in a serpate df i.e Y."
      ],
      "execution_count": 138,
      "outputs": []
    },
    {
      "cell_type": "code",
      "metadata": {
        "id": "u_cxNz7MTPnD"
      },
      "source": [
        "from sklearn.model_selection import train_test_split\n",
        "X_train, X_test, Y_train, Y_test = train_test_split(X, Y, test_size=0.3, random_state=42)#70%-30%\n",
        "X_train, X_val, Y_train, Y_val = train_test_split(X_train, Y_train, test_size=0.2) #80%-20%"
      ],
      "execution_count": 139,
      "outputs": []
    },
    {
      "cell_type": "code",
      "metadata": {
        "id": "NkxbhiRYTPpQ"
      },
      "source": [
        "#from sklearn.preprocessing import StandardScaler\n",
        "mean = X_train.mean(axis=0)\n",
        "std = X_train.std(axis=0)\n",
        "\n",
        "X_train -= mean\n",
        "X_train /= std\n",
        "#\n",
        "X_test -= mean\n",
        "X_test /= std\n",
        "#\n",
        "X_val -= mean\n",
        "X_val /= std"
      ],
      "execution_count": 140,
      "outputs": []
    },
    {
      "cell_type": "code",
      "metadata": {
        "colab": {
          "base_uri": "https://localhost:8080/",
          "height": 196
        },
        "id": "uLUNyC-_e98K",
        "outputId": "2c77e56c-3a9e-4c11-89a9-a476a0e80bc4"
      },
      "source": [
        "X_train.head()"
      ],
      "execution_count": 141,
      "outputs": [
        {
          "output_type": "execute_result",
          "data": {
            "text/html": [
              "<div>\n",
              "<style scoped>\n",
              "    .dataframe tbody tr th:only-of-type {\n",
              "        vertical-align: middle;\n",
              "    }\n",
              "\n",
              "    .dataframe tbody tr th {\n",
              "        vertical-align: top;\n",
              "    }\n",
              "\n",
              "    .dataframe thead th {\n",
              "        text-align: right;\n",
              "    }\n",
              "</style>\n",
              "<table border=\"1\" class=\"dataframe\">\n",
              "  <thead>\n",
              "    <tr style=\"text-align: right;\">\n",
              "      <th></th>\n",
              "      <th>Cement</th>\n",
              "      <th>Bl_F_Slag</th>\n",
              "      <th>Fly_Ash</th>\n",
              "      <th>Water</th>\n",
              "      <th>S_plast</th>\n",
              "      <th>Coarse_Agg</th>\n",
              "      <th>Fine_Agg</th>\n",
              "      <th>Age_day</th>\n",
              "    </tr>\n",
              "  </thead>\n",
              "  <tbody>\n",
              "    <tr>\n",
              "      <th>607</th>\n",
              "      <td>-0.375522</td>\n",
              "      <td>-0.567853</td>\n",
              "      <td>-0.763959</td>\n",
              "      <td>0.610955</td>\n",
              "      <td>-0.574319</td>\n",
              "      <td>-0.055622</td>\n",
              "      <td>1.341109</td>\n",
              "      <td>-0.295453</td>\n",
              "    </tr>\n",
              "    <tr>\n",
              "      <th>83</th>\n",
              "      <td>0.840941</td>\n",
              "      <td>1.327398</td>\n",
              "      <td>-0.763959</td>\n",
              "      <td>-0.757356</td>\n",
              "      <td>0.751334</td>\n",
              "      <td>-0.350749</td>\n",
              "      <td>-0.265085</td>\n",
              "      <td>-0.701302</td>\n",
              "    </tr>\n",
              "    <tr>\n",
              "      <th>679</th>\n",
              "      <td>-0.606132</td>\n",
              "      <td>0.541992</td>\n",
              "      <td>-0.763959</td>\n",
              "      <td>1.057654</td>\n",
              "      <td>-0.574319</td>\n",
              "      <td>0.012776</td>\n",
              "      <td>-0.337190</td>\n",
              "      <td>-0.295453</td>\n",
              "    </tr>\n",
              "    <tr>\n",
              "      <th>972</th>\n",
              "      <td>-1.243190</td>\n",
              "      <td>1.057364</td>\n",
              "      <td>-0.763959</td>\n",
              "      <td>0.042001</td>\n",
              "      <td>-1.263434</td>\n",
              "      <td>0.169840</td>\n",
              "      <td>0.493257</td>\n",
              "      <td>-0.295453</td>\n",
              "    </tr>\n",
              "    <tr>\n",
              "      <th>62</th>\n",
              "      <td>0.335523</td>\n",
              "      <td>-0.567853</td>\n",
              "      <td>-0.763959</td>\n",
              "      <td>0.516913</td>\n",
              "      <td>-0.574319</td>\n",
              "      <td>-0.017623</td>\n",
              "      <td>0.913453</td>\n",
              "      <td>-0.701302</td>\n",
              "    </tr>\n",
              "  </tbody>\n",
              "</table>\n",
              "</div>"
            ],
            "text/plain": [
              "       Cement  Bl_F_Slag   Fly_Ash  ...  Coarse_Agg  Fine_Agg   Age_day\n",
              "607 -0.375522  -0.567853 -0.763959  ...   -0.055622  1.341109 -0.295453\n",
              "83   0.840941   1.327398 -0.763959  ...   -0.350749 -0.265085 -0.701302\n",
              "679 -0.606132   0.541992 -0.763959  ...    0.012776 -0.337190 -0.295453\n",
              "972 -1.243190   1.057364 -0.763959  ...    0.169840  0.493257 -0.295453\n",
              "62   0.335523  -0.567853 -0.763959  ...   -0.017623  0.913453 -0.701302\n",
              "\n",
              "[5 rows x 8 columns]"
            ]
          },
          "metadata": {
            "tags": []
          },
          "execution_count": 141
        }
      ]
    },
    {
      "cell_type": "code",
      "metadata": {
        "id": "dtW3wfjJfC5K"
      },
      "source": [
        "from tensorflow.keras.models import Sequential\n",
        "from tensorflow.keras import layers\n",
        "network = Sequential()\n",
        "\n",
        "network.add(layers.Dense(6, activation='relu', input_shape=(X_train.shape[1],)))\n",
        "network.add(layers.Dense(4, activation='relu'))\n",
        "network.add(layers.Dense(1))"
      ],
      "execution_count": 142,
      "outputs": []
    },
    {
      "cell_type": "code",
      "metadata": {
        "id": "qEQnzNYWfH6N"
      },
      "source": [
        "network.compile(optimizer='adam', loss='mse', metrics='mae')"
      ],
      "execution_count": 143,
      "outputs": []
    },
    {
      "cell_type": "code",
      "metadata": {
        "id": "ql0Vaeu_fH9f"
      },
      "source": [
        "history = network.fit(X_train, Y_train, batch_size=30, verbose=0, epochs=200, validation_data=(X_val, Y_val))"
      ],
      "execution_count": 144,
      "outputs": []
    },
    {
      "cell_type": "code",
      "metadata": {
        "colab": {
          "base_uri": "https://localhost:8080/"
        },
        "id": "FBQoNZgQfH_u",
        "outputId": "ba684b21-6e29-4259-da94-effa9afa1588"
      },
      "source": [
        "train_loss = history.history['loss']\n",
        "val_loss = history.history['val_loss']\n",
        "epochs = range(1, 201)\n",
        "print('Training Loss\\t:' + str(train_loss[-1]))\n",
        "print('Validation Loss\\t:' + str(val_loss[-1]))"
      ],
      "execution_count": 145,
      "outputs": [
        {
          "output_type": "stream",
          "text": [
            "Training Loss\t:53.6463508605957\n",
            "Validation Loss\t:64.40811920166016\n"
          ],
          "name": "stdout"
        }
      ]
    },
    {
      "cell_type": "code",
      "metadata": {
        "colab": {
          "base_uri": "https://localhost:8080/",
          "height": 295
        },
        "id": "5q8QauSmf0R2",
        "outputId": "2285bb4c-4d80-486c-905e-1d1725978c90"
      },
      "source": [
        "plt.plot(epochs, train_loss, label='Training Loss')\n",
        "plt.plot(epochs, val_loss, label='Val loss')\n",
        "plt.title('Train and Val Loss')\n",
        "plt.xlabel('Epochs')\n",
        "plt.ylabel('Loss')\n",
        "plt.legend()\n",
        "plt.show()"
      ],
      "execution_count": 146,
      "outputs": [
        {
          "output_type": "display_data",
          "data": {
            "image/png": "[encoded data removed]",
            "text/plain": [
              "<Figure size 432x288 with 1 Axes>"
            ]
          },
          "metadata": {
            "tags": [],
            "needs_background": "light"
          }
        }
      ]
    },
    {
      "cell_type": "code",
      "metadata": {
        "colab": {
          "base_uri": "https://localhost:8080/"
        },
        "id": "dwc_W1Hrf0Ui",
        "outputId": "35f829a8-0772-4ac6-e5f0-fed06321545f"
      },
      "source": [
        "mae_train = history.history['mae']\n",
        "mae_val= history.history['val_mae']\n",
        "print('Training Loss:\\t\\t' + str(mae_train[-1]))\n",
        "print('Validation Loss:\\t' + str(mae_val[-1]))"
      ],
      "execution_count": 147,
      "outputs": [
        {
          "output_type": "stream",
          "text": [
            "Training Loss:\t\t5.61079216003418\n",
            "Validation Loss:\t6.28650426864624\n"
          ],
          "name": "stdout"
        }
      ]
    },
    {
      "cell_type": "code",
      "metadata": {
        "colab": {
          "base_uri": "https://localhost:8080/",
          "height": 295
        },
        "id": "WAF7FF3nhKvp",
        "outputId": "3b1aff13-7495-46be-ec1f-40c1f7c7ffd5"
      },
      "source": [
        "plt.plot(epochs, mae_train, label='Training MAE')\n",
        "plt.plot(epochs, mae_val, label='Val MAE')\n",
        "plt.title('Train and Val MAE')\n",
        "plt.xlabel('Epochs')\n",
        "plt.ylabel('MAE')\n",
        "plt.legend()\n",
        "plt.show()"
      ],
      "execution_count": 148,
      "outputs": [
        {
          "output_type": "display_data",
          "data": {
            "image/png": "[encoded data removed]",
            "text/plain": [
              "<Figure size 432x288 with 1 Axes>"
            ]
          },
          "metadata": {
            "tags": [],
            "needs_background": "light"
          }
        }
      ]
    },
    {
      "cell_type": "code",
      "metadata": {
        "colab": {
          "base_uri": "https://localhost:8080/"
        },
        "id": "e1z67GpWhKzQ",
        "outputId": "40443065-d405-4209-b5f2-505088fa9c00"
      },
      "source": [
        "pred = network.predict(X_test)\n",
        "print(pred.shape)\n",
        "pred=pred.reshape(309)\n"
      ],
      "execution_count": 164,
      "outputs": [
        {
          "output_type": "stream",
          "text": [
            "(309, 1)\n"
          ],
          "name": "stdout"
        }
      ]
    },
    {
      "cell_type": "code",
      "metadata": {
        "colab": {
          "base_uri": "https://localhost:8080/",
          "height": 77
        },
        "id": "hfphLCMshsVT",
        "outputId": "63625b6b-8678-4914-d4c5-a607a01b3e21"
      },
      "source": [
        "Result = pd.DataFrame({'Actual': [Y_test]})\n",
        "Result"
      ],
      "execution_count": 165,
      "outputs": [
        {
          "output_type": "execute_result",
          "data": {
            "text/html": [
              "<div>\n",
              "<style scoped>\n",
              "    .dataframe tbody tr th:only-of-type {\n",
              "        vertical-align: middle;\n",
              "    }\n",
              "\n",
              "    .dataframe tbody tr th {\n",
              "        vertical-align: top;\n",
              "    }\n",
              "\n",
              "    .dataframe thead th {\n",
              "        text-align: right;\n",
              "    }\n",
              "</style>\n",
              "<table border=\"1\" class=\"dataframe\">\n",
              "  <thead>\n",
              "    <tr style=\"text-align: right;\">\n",
              "      <th></th>\n",
              "      <th>Actual</th>\n",
              "    </tr>\n",
              "  </thead>\n",
              "  <tbody>\n",
              "    <tr>\n",
              "      <th>0</th>\n",
              "      <td>Concrete_target\n",
              "219            10.76\n",
              "910 ...</td>\n",
              "    </tr>\n",
              "  </tbody>\n",
              "</table>\n",
              "</div>"
            ],
            "text/plain": [
              "                                              Actual\n",
              "0       Concrete_target\n",
              "219            10.76\n",
              "910 ..."
            ]
          },
          "metadata": {
            "tags": []
          },
          "execution_count": 165
        }
      ]
    }
  ]
}