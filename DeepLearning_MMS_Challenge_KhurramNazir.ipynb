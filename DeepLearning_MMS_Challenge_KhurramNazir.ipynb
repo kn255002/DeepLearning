{
  "nbformat": 4,
  "nbformat_minor": 0,
  "metadata": {
    "environment": {
      "name": "tf2-gpu.2-4.mnightly-2021-02-12-debian-10-test",
      "type": "gcloud",
      "uri": "gcr.io/deeplearning-platform-release/tf2-gpu.2-4:mnightly-2021-02-12-debian-10-test"
    },
    "kernelspec": {
      "display_name": "Python 3",
      "language": "python",
      "name": "python3"
    },
    "language_info": {
      "codemirror_mode": {
        "name": "ipython",
        "version": 3
      },
      "file_extension": ".py",
      "mimetype": "text/x-python",
      "name": "python",
      "nbconvert_exporter": "python",
      "pygments_lexer": "ipython3",
      "version": "3.8.5"
    },
    "colab": {
      "name": "MMS Engineering Challenge- Using DL--KN",
      "provenance": [],
      "collapsed_sections": []
    }
  },
  "cells": [
    {
      "cell_type": "markdown",
      "metadata": {
        "id": "TLTRof-Wo4yI"
      },
      "source": [
        "# __Welcome to the MMS Engineering Challenge!__\n",
        "\n",
        "This notebook provides you some code to setup a MMS Data Engineering problem. There is no optimal solution, but many good answers. We only want to see if you know how to tackle the problem. There is a lot of room for your approach to the problem. \n",
        "\n",
        "Goal: We want you to predict the number of __sales_per_day__ (= label) with the given dataset and put it into production.\n",
        "\n",
        "\n",
        "Short explanation of the dataset: \n",
        "- __outlet_id__: The ID of a outlet/market\n",
        "- __country__: The country in which the outlet is located\n",
        "- __brand__: \"MediaMarkt\" or \"Saturn\"\n",
        "- __customers_per_day__: The number of customers per day in this outlet \n",
        "- __sales_per_day__: The amount of sales for a specific outlet on a specific day\n",
        "- __currency__: The currency of __sales_per_day__\n",
        "- __week_id__: Calendar week \n",
        "- __weekday__: mon = Monday, tue = Tuesday, ... , sun = Sunday"
      ]
    },
    {
      "cell_type": "markdown",
      "metadata": {
        "id": "2DfX-gWto4yQ"
      },
      "source": [
        "# Challenge\n",
        "Now it is your turn. Show us how you are tackeling this problem. You have complete freedom what you do."
      ]
    },
    {
      "cell_type": "markdown",
      "metadata": {
        "id": "Zh8FGp8srCXk"
      },
      "source": [
        "## **1). Data Loading**"
      ]
    },
    {
      "cell_type": "code",
      "metadata": {
        "colab": {
          "resources": {
            "http://localhost:8080/nbextensions/google.colab/files.js": {
              "data": "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",
              "ok": true,
              "headers": [
                [
                  "content-type",
                  "application/javascript"
                ]
              ],
              "status": 200,
              "status_text": ""
            }
          },
          "base_uri": "https://localhost:8080/",
          "height": 206
        },
        "id": "6CmIiTAWo4yO",
        "outputId": "16292459-88c5-4e18-b4d9-762453edc901"
      },
      "source": [
        "# Prediction Model developed by:\n",
        "# Khurram Nazir\n",
        "# khurram.deutsch@yahoo.com\n",
        "# Munich, Germany\n",
        "import pandas as pd\n",
        "import numpy as np\n",
        "import io\n",
        "from google.colab import files\n",
        "#\n",
        "uploaded_file = files.upload()\n",
        "#df = pd.read_csv(\"C:/Users/khurr/Documents/GitHub/AI-Engineering/PIAIC/Car_Price_Prediction_Assignment/CarPrice_Assignment.csv\",sep=',')\n",
        "df = pd.DataFrame(pd.read_csv(io.BytesIO(uploaded_file['data.csv']),sep=';'))\n",
        "print(df.head(5))"
      ],
      "execution_count": 94,
      "outputs": [
        {
          "output_type": "display_data",
          "data": {
            "text/html": [
              "\n",
              "     <input type=\"file\" id=\"files-6c4a4181-94d0-4a69-957a-cee28965a229\" name=\"files[]\" multiple disabled\n",
              "        style=\"border:none\" />\n",
              "     <output id=\"result-6c4a4181-94d0-4a69-957a-cee28965a229\">\n",
              "      Upload widget is only available when the cell has been executed in the\n",
              "      current browser session. Please rerun this cell to enable.\n",
              "      </output>\n",
              "      <script src=\"/nbextensions/google.colab/files.js\"></script> "
            ],
            "text/plain": [
              "<IPython.core.display.HTML object>"
            ]
          },
          "metadata": {
            "tags": []
          }
        },
        {
          "output_type": "stream",
          "text": [
            "Saving data.csv to data (4).csv\n",
            "        brand  country currency  ...  week_id  weekday  sales_per_day\n",
            "0  MediaMarkt    spain     EURO  ...     34.0      sat       72169.14\n",
            "1      Saturn  germany     EURO  ...      8.0      mon       52825.62\n",
            "2  MediaMarkt    italy     EURO  ...     28.0      thu       53309.83\n",
            "3      Saturn  germany     EURO  ...     47.0      sat       74237.45\n",
            "4  MediaMarkt    spain     EURO  ...      7.0      tue       56621.61\n",
            "\n",
            "[5 rows x 8 columns]\n"
          ],
          "name": "stdout"
        }
      ]
    },
    {
      "cell_type": "markdown",
      "metadata": {
        "id": "_jBLGe9_o4yQ"
      },
      "source": [
        "### **Exploration / Data Preprocessing**\n",
        "The goal here is to better understand the underlying data e.g. in terms of completeness, distribution etc.."
      ]
    },
    {
      "cell_type": "code",
      "metadata": {
        "colab": {
          "base_uri": "https://localhost:8080/",
          "height": 404
        },
        "id": "T4JqGHVko4yQ",
        "outputId": "7e3ac6cd-6564-4ee7-b8fd-98846c0d3193"
      },
      "source": [
        "df = df.sample(frac=1) #Shuffeling DF.\n",
        "df"
      ],
      "execution_count": 95,
      "outputs": [
        {
          "output_type": "execute_result",
          "data": {
            "text/html": [
              "<div>\n",
              "<style scoped>\n",
              "    .dataframe tbody tr th:only-of-type {\n",
              "        vertical-align: middle;\n",
              "    }\n",
              "\n",
              "    .dataframe tbody tr th {\n",
              "        vertical-align: top;\n",
              "    }\n",
              "\n",
              "    .dataframe thead th {\n",
              "        text-align: right;\n",
              "    }\n",
              "</style>\n",
              "<table border=\"1\" class=\"dataframe\">\n",
              "  <thead>\n",
              "    <tr style=\"text-align: right;\">\n",
              "      <th></th>\n",
              "      <th>brand</th>\n",
              "      <th>country</th>\n",
              "      <th>currency</th>\n",
              "      <th>customers_per_day</th>\n",
              "      <th>outlet_id</th>\n",
              "      <th>week_id</th>\n",
              "      <th>weekday</th>\n",
              "      <th>sales_per_day</th>\n",
              "    </tr>\n",
              "  </thead>\n",
              "  <tbody>\n",
              "    <tr>\n",
              "      <th>10946</th>\n",
              "      <td>MediaMarkt</td>\n",
              "      <td>switzerland</td>\n",
              "      <td>CHF</td>\n",
              "      <td>633.0</td>\n",
              "      <td>421.0</td>\n",
              "      <td>50.0</td>\n",
              "      <td>thu</td>\n",
              "      <td>56223.81</td>\n",
              "    </tr>\n",
              "    <tr>\n",
              "      <th>9531</th>\n",
              "      <td>MediaMarkt</td>\n",
              "      <td>austria</td>\n",
              "      <td>EURO</td>\n",
              "      <td>2561.0</td>\n",
              "      <td>339.0</td>\n",
              "      <td>7.0</td>\n",
              "      <td>sat</td>\n",
              "      <td>72235.83</td>\n",
              "    </tr>\n",
              "    <tr>\n",
              "      <th>17692</th>\n",
              "      <td>MediaMarkt</td>\n",
              "      <td>austria</td>\n",
              "      <td>EURO</td>\n",
              "      <td>365.0</td>\n",
              "      <td>342.0</td>\n",
              "      <td>29.0</td>\n",
              "      <td>tue</td>\n",
              "      <td>51590.19</td>\n",
              "    </tr>\n",
              "    <tr>\n",
              "      <th>560</th>\n",
              "      <td>MediaMarkt</td>\n",
              "      <td>spain</td>\n",
              "      <td>EURO</td>\n",
              "      <td>269.0</td>\n",
              "      <td>106.0</td>\n",
              "      <td>31.0</td>\n",
              "      <td>mon</td>\n",
              "      <td>52162.98</td>\n",
              "    </tr>\n",
              "    <tr>\n",
              "      <th>5230</th>\n",
              "      <td>Saturn</td>\n",
              "      <td>spain</td>\n",
              "      <td>EURO</td>\n",
              "      <td>342.0</td>\n",
              "      <td>108.0</td>\n",
              "      <td>16.0</td>\n",
              "      <td>thu</td>\n",
              "      <td>61176.34</td>\n",
              "    </tr>\n",
              "    <tr>\n",
              "      <th>...</th>\n",
              "      <td>...</td>\n",
              "      <td>...</td>\n",
              "      <td>...</td>\n",
              "      <td>...</td>\n",
              "      <td>...</td>\n",
              "      <td>...</td>\n",
              "      <td>...</td>\n",
              "      <td>...</td>\n",
              "    </tr>\n",
              "    <tr>\n",
              "      <th>7059</th>\n",
              "      <td>MediaMarkt</td>\n",
              "      <td>germany</td>\n",
              "      <td>EURO</td>\n",
              "      <td>228.0</td>\n",
              "      <td>99.0</td>\n",
              "      <td>16.0</td>\n",
              "      <td>mon</td>\n",
              "      <td>51260.45</td>\n",
              "    </tr>\n",
              "    <tr>\n",
              "      <th>12846</th>\n",
              "      <td>MediaMarkt</td>\n",
              "      <td>netherlands</td>\n",
              "      <td>EURO</td>\n",
              "      <td>0.0</td>\n",
              "      <td>652.0</td>\n",
              "      <td>14.0</td>\n",
              "      <td>sun</td>\n",
              "      <td>0.00</td>\n",
              "    </tr>\n",
              "    <tr>\n",
              "      <th>4841</th>\n",
              "      <td>MediaMarkt</td>\n",
              "      <td>switzerland</td>\n",
              "      <td>CHF</td>\n",
              "      <td>630.0</td>\n",
              "      <td>477.0</td>\n",
              "      <td>40.0</td>\n",
              "      <td>thu</td>\n",
              "      <td>67023.32</td>\n",
              "    </tr>\n",
              "    <tr>\n",
              "      <th>5582</th>\n",
              "      <td>MediaMarkt</td>\n",
              "      <td>switzerland</td>\n",
              "      <td>CHF</td>\n",
              "      <td>1766.0</td>\n",
              "      <td>408.0</td>\n",
              "      <td>27.0</td>\n",
              "      <td>sat</td>\n",
              "      <td>74884.48</td>\n",
              "    </tr>\n",
              "    <tr>\n",
              "      <th>11116</th>\n",
              "      <td>Saturn</td>\n",
              "      <td>austria</td>\n",
              "      <td>EURO</td>\n",
              "      <td>1976.0</td>\n",
              "      <td>333.0</td>\n",
              "      <td>28.0</td>\n",
              "      <td>sat</td>\n",
              "      <td>72455.95</td>\n",
              "    </tr>\n",
              "  </tbody>\n",
              "</table>\n",
              "<p>18207 rows × 8 columns</p>\n",
              "</div>"
            ],
            "text/plain": [
              "            brand      country currency  ...  week_id  weekday  sales_per_day\n",
              "10946  MediaMarkt  switzerland      CHF  ...     50.0      thu       56223.81\n",
              "9531   MediaMarkt      austria     EURO  ...      7.0      sat       72235.83\n",
              "17692  MediaMarkt      austria     EURO  ...     29.0      tue       51590.19\n",
              "560    MediaMarkt        spain     EURO  ...     31.0      mon       52162.98\n",
              "5230       Saturn        spain     EURO  ...     16.0      thu       61176.34\n",
              "...           ...          ...      ...  ...      ...      ...            ...\n",
              "7059   MediaMarkt      germany     EURO  ...     16.0      mon       51260.45\n",
              "12846  MediaMarkt  netherlands     EURO  ...     14.0      sun           0.00\n",
              "4841   MediaMarkt  switzerland      CHF  ...     40.0      thu       67023.32\n",
              "5582   MediaMarkt  switzerland      CHF  ...     27.0      sat       74884.48\n",
              "11116      Saturn      austria     EURO  ...     28.0      sat       72455.95\n",
              "\n",
              "[18207 rows x 8 columns]"
            ]
          },
          "metadata": {
            "tags": []
          },
          "execution_count": 95
        }
      ]
    },
    {
      "cell_type": "code",
      "metadata": {
        "id": "vLgScQ7zo4yR"
      },
      "source": [
        "def set_color():\n",
        "    return ['gold','red', 'green', 'blue','purple','orange','black','brown']\n",
        "#\n",
        "def df_lookslike(v_df):\n",
        "    #---------------------------------------How dataframe looks like?\n",
        "    v_df.info()\n",
        "    print(v_df.head(5))\n",
        "    total_cells=np.product(v_df.shape)\n",
        "    num_col = [i for i in v_df.columns if (v_df[i].dtype=='int64' or v_df[i].dtype=='float64')]\n",
        "    print(v_df[num_col].describe().loc[['min','max', 'mean','50%'],:]) #How big is Messy data?\n",
        "    missing_Values=v_df.isnull().sum()\n",
        "    print(missing_Values)\n",
        "    total_missing=missing_Values.sum()\n",
        "\n",
        "    #Percent of Missing data\n",
        "    print(\"Percent of data is missing:\",((total_missing/total_cells) * 100))\n",
        "\n",
        "    "
      ],
      "execution_count": 96,
      "outputs": []
    },
    {
      "cell_type": "markdown",
      "metadata": {
        "id": "bxmVUN0fra3-"
      },
      "source": [
        "## **2). Analysis and Fixing Missing Values**"
      ]
    },
    {
      "cell_type": "code",
      "metadata": {
        "colab": {
          "base_uri": "https://localhost:8080/",
          "height": 992
        },
        "id": "PzhfWiiZo4yR",
        "outputId": "268988bb-d400-4217-fcaf-cec4ae9a31f6"
      },
      "source": [
        "import seaborn as sns\n",
        "#How df looks like?\n",
        "sns.heatmap(df.isnull(),yticklabels=False, cbar=True, cmap='viridis')\n",
        "##\n",
        "df_lookslike(df)"
      ],
      "execution_count": 97,
      "outputs": [
        {
          "output_type": "stream",
          "text": [
            "<class 'pandas.core.frame.DataFrame'>\n",
            "Int64Index: 18207 entries, 10946 to 11116\n",
            "Data columns (total 8 columns):\n",
            " #   Column             Non-Null Count  Dtype  \n",
            "---  ------             --------------  -----  \n",
            " 0   brand              18174 non-null  object \n",
            " 1   country            18185 non-null  object \n",
            " 2   currency           18184 non-null  object \n",
            " 3   customers_per_day  18199 non-null  float64\n",
            " 4   outlet_id          18194 non-null  float64\n",
            " 5   week_id            18194 non-null  float64\n",
            " 6   weekday            18170 non-null  object \n",
            " 7   sales_per_day      18193 non-null  float64\n",
            "dtypes: float64(4), object(4)\n",
            "memory usage: 1.3+ MB\n",
            "            brand      country currency  ...  week_id  weekday  sales_per_day\n",
            "10946  MediaMarkt  switzerland      CHF  ...     50.0      thu       56223.81\n",
            "9531   MediaMarkt      austria     EURO  ...      7.0      sat       72235.83\n",
            "17692  MediaMarkt      austria     EURO  ...     29.0      tue       51590.19\n",
            "560    MediaMarkt        spain     EURO  ...     31.0      mon       52162.98\n",
            "5230       Saturn        spain     EURO  ...     16.0      thu       61176.34\n",
            "\n",
            "[5 rows x 8 columns]\n",
            "      customers_per_day      outlet_id        week_id  sales_per_day\n",
            "min      -999999.000000 -999999.000000 -999999.000000 -999999.000000\n",
            "max         4734.000000     698.000000      52.000000   96225.530000\n",
            "mean         259.351503    -301.265747    -852.575684   50823.378059\n",
            "50%          550.000000     255.000000      27.000000   57319.920000\n",
            "brand                33\n",
            "country              22\n",
            "currency             23\n",
            "customers_per_day     8\n",
            "outlet_id            13\n",
            "week_id              13\n",
            "weekday              37\n",
            "sales_per_day        14\n",
            "dtype: int64\n",
            "Percent of data is missing: 0.11190750810127974\n"
          ],
          "name": "stdout"
        },
        {
          "output_type": "display_data",
          "data": {
            "image/png": "[encoded data removed]",
            "text/plain": [
              "<Figure size 432x288 with 2 Axes>"
            ]
          },
          "metadata": {
            "tags": [],
            "needs_background": "light"
          }
        }
      ]
    },
    {
      "cell_type": "markdown",
      "metadata": {
        "id": "isznzAYbxD7M"
      },
      "source": [
        "## **3). Data Cleansing**"
      ]
    },
    {
      "cell_type": "code",
      "metadata": {
        "colab": {
          "base_uri": "https://localhost:8080/"
        },
        "id": "xhbUBmgAo4yS",
        "outputId": "e0d6d6f7-8ced-4656-dde3-9cb15c61e8be"
      },
      "source": [
        "#Data Cleansing\n",
        "#\n",
        "#To fix messy oder missing data, i'd like to:\n",
        "#Investigage the reason is this !recorded or doesn't exists?\n",
        "#How many % of data is missing\n",
        "#Discuss with an approach with source/concerned-team to build a consensus approach w.r.t Messy/missing data.\n",
        "#Data Imputation: Either Update missing data with MEAN, try to guess, oder replace with a special characters/strings ('unknown')/0.\n",
        "#The above line process called \"imputation\".\n",
        "#\n",
        "#Further, its NOT RECOMEND to remove Null/Missing Data until its in really small amount and major stackholder agree.\n",
        "\n",
        "import seaborn as sns\n",
        "df=df.replace(-999999.0,0)    #Replace ALL -99999 with 0 at DF Level----------------------------------\n",
        "values = {'brand':'Unknown','country':'Unknown','currency':'Unknown','customers_per_day':0,'outlet_id':0,'week_id':0,'weekday':'Unknown','sales_per_day':0}\n",
        "df=df.fillna(value=values)    #Exchange NULLs in ALL Columns with 'Unknown' Oder 0 at DF Level--------\n",
        "df_lookslike(df)              #How dataframe looks like?\n",
        "###"
      ],
      "execution_count": 98,
      "outputs": [
        {
          "output_type": "stream",
          "text": [
            "<class 'pandas.core.frame.DataFrame'>\n",
            "Int64Index: 18207 entries, 10946 to 11116\n",
            "Data columns (total 8 columns):\n",
            " #   Column             Non-Null Count  Dtype  \n",
            "---  ------             --------------  -----  \n",
            " 0   brand              18207 non-null  object \n",
            " 1   country            18207 non-null  object \n",
            " 2   currency           18207 non-null  object \n",
            " 3   customers_per_day  18207 non-null  float64\n",
            " 4   outlet_id          18207 non-null  float64\n",
            " 5   week_id            18207 non-null  float64\n",
            " 6   weekday            18207 non-null  object \n",
            " 7   sales_per_day      18207 non-null  float64\n",
            "dtypes: float64(4), object(4)\n",
            "memory usage: 1.3+ MB\n",
            "            brand      country currency  ...  week_id  weekday  sales_per_day\n",
            "10946  MediaMarkt  switzerland      CHF  ...     50.0      thu       56223.81\n",
            "9531   MediaMarkt      austria     EURO  ...      7.0      sat       72235.83\n",
            "17692  MediaMarkt      austria     EURO  ...     29.0      tue       51590.19\n",
            "560    MediaMarkt        spain     EURO  ...     31.0      mon       52162.98\n",
            "5230       Saturn        spain     EURO  ...     16.0      thu       61176.34\n",
            "\n",
            "[5 rows x 8 columns]\n",
            "      customers_per_day  outlet_id    week_id  sales_per_day\n",
            "min            0.000000    0.00000   0.000000       0.000000\n",
            "max         4734.000000  698.00000  52.000000   96225.530000\n",
            "mean         973.247927  303.11199  26.815071   51223.689187\n",
            "50%          550.000000  255.00000  27.000000   57310.430000\n",
            "brand                0\n",
            "country              0\n",
            "currency             0\n",
            "customers_per_day    0\n",
            "outlet_id            0\n",
            "week_id              0\n",
            "weekday              0\n",
            "sales_per_day        0\n",
            "dtype: int64\n",
            "Percent of data is missing: 0.0\n"
          ],
          "name": "stdout"
        }
      ]
    },
    {
      "cell_type": "markdown",
      "metadata": {
        "id": "7Bt46g67x-QN"
      },
      "source": [
        "## **4). Data Vectorization**\n",
        "Preparing Tensors (using HotOneEncoding)"
      ]
    },
    {
      "cell_type": "code",
      "metadata": {
        "colab": {
          "base_uri": "https://localhost:8080/"
        },
        "id": "hAWER9VNo4yT",
        "outputId": "6a291e99-08d2-4793-e49f-8588e49f2920"
      },
      "source": [
        "# I am going to convert data into numeric values by using following technique und check the score for each case.\n",
        "########################################################################################################################################\n",
        "#Test Case-1:Integer Encoding   --Tried this one. But result was so far :(\n",
        "#Test Case-2:OneHot Encoding    --Tried this one also its acceptable and looks better :)\n",
        "#Test Case-2:Dummy Variable     Encoding.\n",
        "################################################Test Case-1:Integer Encoding (Manually)#################################################\n",
        "#df['brand']=df['brand'].map({'MediaMarkt':1,'Saturn':2,'Unknown':0})\n",
        "#df['country']=df['country'].map({'germany':1,'switzerland':2,'austria':3,'netherlands':4,'spain':5,'greece':6,'Unknown':0})\n",
        "#df['country']=df['country'].fillna(0)\n",
        "#df['currency']=df['currency'].map({'TWO':2,'FOUR':4})\n",
        "#df['weekday']=df['weekday'].map({'mon':1,'tue':2,'wed':3,'thu':4,'fri':5,'sat':6,'sun':7,'Unknown':0}) #Not ideal as changing weightage\n",
        "#print(df['brand'].unique())\n",
        "#df_lookslike(df)              #How dataframe looks like?\n",
        "################################################Test Case-2:One-Hot Encoding (via Pandas Manually)######################################\n",
        "#I noticed and learnt, when we use Integer based Encoding for countries (\"Germany,Spain, etc\"). Then weights are chaning.\n",
        "# HotEncoding is better.\n",
        "#df = pd.get_dummies(df, columns=['brand', 'country','weekday'])\n",
        "################################################Test Case-3:Utilizing sklearn.preprocessing##############################################\n",
        "from sklearn.preprocessing import LabelEncoder\n",
        "label_enc=LabelEncoder()\n",
        "df['brand']=label_enc.fit_transform(df['brand'])\n",
        "df['country']=label_enc.fit_transform(df['country'])\n",
        "df['currency']=label_enc.fit_transform(df['currency']) #Perhaps, later i drop it as i don't need. But lets see Heatmap based correlation.\n",
        "df['weekday']=label_enc.fit_transform(df['weekday'])\n",
        "print(df.head(5))\n"
      ],
      "execution_count": 99,
      "outputs": [
        {
          "output_type": "stream",
          "text": [
            "       brand  country  currency  ...  week_id  weekday  sales_per_day\n",
            "10946      0        7         0  ...     50.0        5       56223.81\n",
            "9531       0        1         1  ...      7.0        3       72235.83\n",
            "17692      0        1         1  ...     29.0        6       51590.19\n",
            "560        0        6         1  ...     31.0        2       52162.98\n",
            "5230       1        6         1  ...     16.0        5       61176.34\n",
            "\n",
            "[5 rows x 8 columns]\n"
          ],
          "name": "stdout"
        }
      ]
    },
    {
      "cell_type": "markdown",
      "metadata": {
        "id": "V1caE5YmzOJQ"
      },
      "source": [
        "## **5). Data Correlation**\n",
        "Analysis of Tensors Correlation/relationship (using HotOneEncoding)"
      ]
    },
    {
      "cell_type": "code",
      "metadata": {
        "colab": {
          "base_uri": "https://localhost:8080/",
          "height": 1000
        },
        "id": "qc_cvQl7o4yU",
        "outputId": "aaeb3f98-e075-479e-a1b2-2f05396f9bfb"
      },
      "source": [
        "import seaborn as sns\n",
        "import matplotlib.pyplot as plt\n",
        "#Analyzing correlation among all columns and Heatmap.\n",
        "# https://pandas.pydata.org/pandas-docs/stable/reference/api/pandas.DataFrame.corr.html?highlight=dataframe%20corr#pandas.DataFrame.corr\n",
        "# Helpful video: https://www.youtube.com/watch?v=ZynCwbZfCgY\n",
        "#Remeber: Mean/Median/Mode/Std/Variance are \"UNIVARIATE\" i.e. it can be extracted on single column values.\n",
        "#You can't extract (Mean/Median/Mode/Std/Variance) for more than 01 column.\n",
        "#The word \"CO\" represents the relationship/association b/w TWO columns.\n",
        "#Correlation is always b/w +1 and -1. If a relationship is ZERO or NEGATIVE then you may delete it.\n",
        "#\n",
        "#Remember:\n",
        "#Among Two or more dependent variables/Features should not have high Correlation/relatinship. Example: t-type of Salt in your meal.\n",
        "#Thus, you'll have to remove one dependent variable/feature as both are doing the same task.\n",
        "#\n",
        "#It ML we are performing Feature Engineering AND analyzing relationship with Correlation. However, in DEEPLEARNING its auto done.\n",
        "#\n",
        "\n",
        "corrmat = df.corr(method='pearson',min_periods=5) #pearson : standard correlation coefficient,\n",
        "top_corr_features = corrmat.index\n",
        "plt.figure(figsize=(30,30))\n",
        "g=sns.heatmap(df[top_corr_features].corr(),annot=True,cmap=\"RdYlGn\")"
      ],
      "execution_count": 100,
      "outputs": [
        {
          "output_type": "display_data",
          "data": {
            "image/png": "[encoded data removed]",
            "text/plain": [
              "<Figure size 2160x2160 with 2 Axes>"
            ]
          },
          "metadata": {
            "tags": [],
            "needs_background": "light"
          }
        }
      ]
    },
    {
      "cell_type": "markdown",
      "metadata": {
        "id": "qBXqSJiQ6f0X"
      },
      "source": [
        "## **6). Feature Engineering**"
      ]
    },
    {
      "cell_type": "code",
      "metadata": {
        "colab": {
          "base_uri": "https://localhost:8080/"
        },
        "id": "Jtk5E-ALo4yU",
        "outputId": "202783c2-a84a-4568-a181-b9c85d04add7"
      },
      "source": [
        "#Identifying from the above Heatamp which columns are strongly correlated or weakly correlated.\n",
        "#I observed The Correlation between following columns were very weak.\n",
        "# 1). sales_per_day vs 'weekday'=-0.022 Its a very weak correlation/association. Thus, require deletion.\n",
        "# 2). sales_per_day vs 'currency'=-0.011 Its a very weak correlation/association. Thus, require deletion.\n",
        "# 3). sales_per_day vs 'currency'=-0.0053 ts a very weak correlation/association. Thus, require deletion.\n",
        "# Now, i'm removing weak correlated/relationship Independent Variable from df.\n",
        "#\n",
        "df.drop(columns=['weekday','currency','country'], inplace=True)\n",
        "#\n",
        "#Linear regression is a way to model the relationship between two variables.\n",
        "#The slope formula: Y = m*X + b\n",
        "#\n",
        "# Y: Dependent variable (i.e Sales_per_day)\n",
        "# X: Independent variable (All others/Features)\n",
        "# m: The slope (i.e. how steep the line goes)\n",
        "# b: The y-intercept/point where line cut the Y-axis\n",
        "# \n",
        "# \n",
        "#\n",
        "#\n",
        "# I have to predict \"Sales_per_day\". Thus, its the 'Dependent Variable' (Y) and all others are Independent variable (X).\n",
        "#The folllowing approach is safe as you don't modify your DF instead prefer to seperate Dependent & Independent Variable.\n",
        "#Y = df[\"sales_per_day\"] #Lets save this (Dependent/Target Variable)column for later usage and remove it from df.\n",
        "Y=(df.loc[:,df.columns=='sales_per_day']) #Lets take Dependent Variable/Target column from df.\n",
        "X=(df.loc[:,df.columns!='sales_per_day']) #Lets take Independent Variable/ALL Features column from df.\n",
        "print(\"How Y looks like:\\n\", Y.head(5))\n",
        "print(\"How Features/X looks like:\\n\", X.head(5))\n",
        "#"
      ],
      "execution_count": 101,
      "outputs": [
        {
          "output_type": "stream",
          "text": [
            "How Y looks like:\n",
            "        sales_per_day\n",
            "10946       56223.81\n",
            "9531        72235.83\n",
            "17692       51590.19\n",
            "560         52162.98\n",
            "5230        61176.34\n",
            "How Features/X looks like:\n",
            "        brand  customers_per_day  outlet_id  week_id\n",
            "10946      0              633.0      421.0     50.0\n",
            "9531       0             2561.0      339.0      7.0\n",
            "17692      0              365.0      342.0     29.0\n",
            "560        0              269.0      106.0     31.0\n",
            "5230       1              342.0      108.0     16.0\n"
          ],
          "name": "stdout"
        }
      ]
    },
    {
      "cell_type": "markdown",
      "metadata": {
        "id": "GvqI5hYq6oZ4"
      },
      "source": [
        "## **7). Data Splitting (Training: 80%, Test: 20%)**"
      ]
    },
    {
      "cell_type": "code",
      "metadata": {
        "colab": {
          "base_uri": "https://localhost:8080/"
        },
        "id": "BJQauii_o4yV",
        "outputId": "a20c65cc-de48-4a34-d5fe-eff9274be3f8"
      },
      "source": [
        "#The ideal situation is 1st SPLIT DATA then do the Normalization.\n",
        "# If we do Normalization before the Data splitting then TEST/VALIDATION Data will also be exposed w.r.t to MEAN & STD.\n",
        "#Which is absolutly NOT required/incorrect approach.\n",
        "\n",
        "#For picture data Normalization:\tWe divide each value by its Higher pixel value (for colored pic 255) \n",
        "#For Discrete/number data Normalization:\tWe extract mean and std\n",
        "\n",
        "#We can use following libraries to Normalize particular data.\n",
        "#from sklearn.preprocessing import StandardScaler\n",
        "\n",
        "#However, in sklearn function shuffel parameter by defaul is True. But Remember Timeseries data shouldn't be shuffel :)\n",
        "from sklearn.model_selection import train_test_split\n",
        "\n",
        "x_train,x_test,y_train,y_test=train_test_split(X,Y,test_size=0.8,random_state=0)\n",
        "print(\"Training Data-x:/Features shape [80%]:\\t:\", x_train.shape)\n",
        "print(\"Test Data-x/Features shape [20%]:\", x_test.shape)"
      ],
      "execution_count": 102,
      "outputs": [
        {
          "output_type": "stream",
          "text": [
            "Training Data-x:/Features shape [80%]:\t: (3641, 4)\n",
            "Test Data-x/Features shape [20%]: (14566, 4)\n"
          ],
          "name": "stdout"
        }
      ]
    },
    {
      "cell_type": "markdown",
      "metadata": {
        "id": "o-kAMAZa6z5m"
      },
      "source": [
        "## **8). Data Normalization**"
      ]
    },
    {
      "cell_type": "code",
      "metadata": {
        "colab": {
          "base_uri": "https://localhost:8080/"
        },
        "id": "1tXmtFgeo4yW",
        "outputId": "8a2768a3-370d-4d03-fceb-b050ae2565b5"
      },
      "source": [
        "#The ideal situation is 1st SPLIT DATA then do the Normalization.\n",
        "# If we do Normalization before the Data splitting then TEST/VALIDATION Data will also be exposed w.r.t to MEAN & STD.\n",
        "#Which is absolutly NOT required/incorrect approach.\n",
        "\n",
        "#For picture data Normalization:\tWe divide each value by its Higher pixel value (for colored pic 255) \n",
        "#For Discrete/number data Normalization:\tWe extract mean and std\n",
        "\n",
        "#We can use following libraries to Normalize particular data.\n",
        "#from sklearn.preprocessing import StandardScaler\n",
        "#Analyzing how DF looks like in pre-normalization phase.\n",
        "\n",
        "print(\"Pre Normalization X Training data:\\n\",x_train.head(5))\n",
        "print(\"Pre Normalization X Test data:\\n\",x_test.head(5))\n",
        "\n",
        "\n",
        "#I'v checked there are following one columns who's data is too high/low.\n",
        "#Thus, I'm Normalizing them in individaul DF (Training/Test/Validation).\n",
        "\n",
        "from sklearn.preprocessing import StandardScaler\n",
        "sc= StandardScaler()\n",
        "x_train[['customers_per_day']] = sc.fit_transform(x_train[['customers_per_day']])\n",
        "x_test[['customers_per_day']] = sc.fit_transform(x_test[['customers_per_day']])\n",
        "\n",
        "print(\"Post Normalization X Training data:\\n\",x_train.head(5))\n",
        "print(\"Post Normalization X Test data:\\n\",x_test.head(5))"
      ],
      "execution_count": 103,
      "outputs": [
        {
          "output_type": "stream",
          "text": [
            "Pre Normalization X Training data:\n",
            "        brand  customers_per_day  outlet_id  week_id\n",
            "17161      1             1357.0      582.0     37.0\n",
            "8009       0                0.0       52.0     22.0\n",
            "2573       0              261.0      652.0     23.0\n",
            "15180      0              399.0      694.0     11.0\n",
            "10212      0              599.0      598.0     41.0\n",
            "Pre Normalization X Test data:\n",
            "        brand  customers_per_day  outlet_id  week_id\n",
            "11219      1                0.0      298.0     14.0\n",
            "4249       0              368.0      100.0      6.0\n",
            "3129       0              282.0      342.0     16.0\n",
            "1018       0              367.0      509.0     43.0\n",
            "13161      0              568.0      598.0     10.0\n",
            "Post Normalization X Training data:\n",
            "        brand  customers_per_day  outlet_id  week_id\n",
            "17161      1           0.469601      582.0     37.0\n",
            "8009       0          -1.085908       52.0     22.0\n",
            "2573       0          -0.786727      652.0     23.0\n",
            "15180      0          -0.628540      694.0     11.0\n",
            "10212      0          -0.399283      598.0     41.0\n",
            "Post Normalization X Test data:\n",
            "        brand  customers_per_day  outlet_id  week_id\n",
            "11219      1          -1.098060      298.0     14.0\n",
            "4249       0          -0.685612      100.0      6.0\n",
            "3129       0          -0.782000      342.0     16.0\n",
            "1018       0          -0.686733      509.0     43.0\n",
            "13161      0          -0.461456      598.0     10.0\n"
          ],
          "name": "stdout"
        },
        {
          "output_type": "stream",
          "text": [
            "/usr/local/lib/python3.7/dist-packages/ipykernel_launcher.py:21: SettingWithCopyWarning: \n",
            "A value is trying to be set on a copy of a slice from a DataFrame.\n",
            "Try using .loc[row_indexer,col_indexer] = value instead\n",
            "\n",
            "See the caveats in the documentation: https://pandas.pydata.org/pandas-docs/stable/user_guide/indexing.html#returning-a-view-versus-a-copy\n",
            "/usr/local/lib/python3.7/dist-packages/pandas/core/indexing.py:1734: SettingWithCopyWarning: \n",
            "A value is trying to be set on a copy of a slice from a DataFrame.\n",
            "Try using .loc[row_indexer,col_indexer] = value instead\n",
            "\n",
            "See the caveats in the documentation: https://pandas.pydata.org/pandas-docs/stable/user_guide/indexing.html#returning-a-view-versus-a-copy\n",
            "  isetter(loc, value[:, i].tolist())\n",
            "/usr/local/lib/python3.7/dist-packages/ipykernel_launcher.py:22: SettingWithCopyWarning: \n",
            "A value is trying to be set on a copy of a slice from a DataFrame.\n",
            "Try using .loc[row_indexer,col_indexer] = value instead\n",
            "\n",
            "See the caveats in the documentation: https://pandas.pydata.org/pandas-docs/stable/user_guide/indexing.html#returning-a-view-versus-a-copy\n",
            "/usr/local/lib/python3.7/dist-packages/pandas/core/indexing.py:1734: SettingWithCopyWarning: \n",
            "A value is trying to be set on a copy of a slice from a DataFrame.\n",
            "Try using .loc[row_indexer,col_indexer] = value instead\n",
            "\n",
            "See the caveats in the documentation: https://pandas.pydata.org/pandas-docs/stable/user_guide/indexing.html#returning-a-view-versus-a-copy\n",
            "  isetter(loc, value[:, i].tolist())\n"
          ],
          "name": "stderr"
        }
      ]
    },
    {
      "cell_type": "markdown",
      "metadata": {
        "id": "Jz6CYznX7BA8"
      },
      "source": [
        "## **9). USING MACHINE LEARNING (Linear Regresssion)**\n",
        "i). Analyzing Model Score with Train Data & Test Data"
      ]
    },
    {
      "cell_type": "code",
      "metadata": {
        "colab": {
          "base_uri": "https://localhost:8080/"
        },
        "id": "DjxIrs4zo4yW",
        "outputId": "22628144-de00-4891-c511-614bd350d146"
      },
      "source": [
        "#Building Regression Model by using Machine learning\n",
        "#\n",
        "#Linear Models: https://scikit-learn.org/stable/modules/linear_model.html\n",
        "#\n",
        "#Case-1): LinearRegression by using ML\n",
        "#\n",
        "from sklearn.linear_model import LinearRegression\n",
        "LR_model=LinearRegression()\n",
        "LR_model.fit(x_train,y_train) #We are training.\n",
        "#LinearRegression(copy_X=True,fit_intercept=True,n_jobs=1,normalize=False)\n",
        "#\n",
        "print('LR-Train score:',LR_model.score(x_train,y_train))\n",
        "print('LR-Test score:' ,LR_model.score(x_test,y_test))\n",
        "##returns the coefficient of determination or R². Its maximum is 1. The higher the R² value, the better the fit.\n",
        "#\n",
        "#coeff_df = pd.DataFrame(LR_model.coef_, X.columns, columns=['Coefficient'])\n",
        "#print(\"Coefficient:\",coeff_df)\n",
        "##returns the coefficient of determination or R². Its maximum is 1.\n",
        "#The higher the R² value, the better the fit.\n",
        "#y_pred = LR_model.predict(x_test)"
      ],
      "execution_count": 104,
      "outputs": [
        {
          "output_type": "stream",
          "text": [
            "LR-Train score: 0.40772369761057203\n",
            "LR-Test score: 0.3931906197514007\n"
          ],
          "name": "stdout"
        }
      ]
    },
    {
      "cell_type": "markdown",
      "metadata": {
        "id": "4AlLAy6fA2f2"
      },
      "source": [
        "## **9). USING MACHINE LEARNING (Error Analysis AE, MSE, MSRE)**"
      ]
    },
    {
      "cell_type": "code",
      "metadata": {
        "colab": {
          "base_uri": "https://localhost:8080/",
          "height": 228
        },
        "id": "wN0vUp6To4yX",
        "outputId": "90c56a6b-4345-4de5-c2e0-87e3edcf84eb"
      },
      "source": [
        "from sklearn import metrics\n",
        "print('Mean A.Error:', metrics.mean_absolute_error(y_test, y_pred))\n",
        "print('Mean S.Error:', metrics.mean_squared_error(y_test, y_pred))\n",
        "print('Root M.Squared Error:', np.sqrt(metrics.mean_squared_error(y_test, y_pred)))\n",
        "\n",
        "#MSQ oder the difference between the original values and the predicted values is coming too high :(\n",
        "#Evaluate the Model"
      ],
      "execution_count": 105,
      "outputs": [
        {
          "output_type": "error",
          "ename": "NameError",
          "evalue": "ignored",
          "traceback": [
            "\u001b[0;31m---------------------------------------------------------------------------\u001b[0m",
            "\u001b[0;31mNameError\u001b[0m                                 Traceback (most recent call last)",
            "\u001b[0;32m<ipython-input-105-b90d14688811>\u001b[0m in \u001b[0;36m<module>\u001b[0;34m()\u001b[0m\n\u001b[1;32m      1\u001b[0m \u001b[0;32mfrom\u001b[0m \u001b[0msklearn\u001b[0m \u001b[0;32mimport\u001b[0m \u001b[0mmetrics\u001b[0m\u001b[0;34m\u001b[0m\u001b[0;34m\u001b[0m\u001b[0m\n\u001b[0;32m----> 2\u001b[0;31m \u001b[0mprint\u001b[0m\u001b[0;34m(\u001b[0m\u001b[0;34m'Mean A.Error:'\u001b[0m\u001b[0;34m,\u001b[0m \u001b[0mmetrics\u001b[0m\u001b[0;34m.\u001b[0m\u001b[0mmean_absolute_error\u001b[0m\u001b[0;34m(\u001b[0m\u001b[0my_test\u001b[0m\u001b[0;34m,\u001b[0m \u001b[0my_pred\u001b[0m\u001b[0;34m)\u001b[0m\u001b[0;34m)\u001b[0m\u001b[0;34m\u001b[0m\u001b[0;34m\u001b[0m\u001b[0m\n\u001b[0m\u001b[1;32m      3\u001b[0m \u001b[0mprint\u001b[0m\u001b[0;34m(\u001b[0m\u001b[0;34m'Mean S.Error:'\u001b[0m\u001b[0;34m,\u001b[0m \u001b[0mmetrics\u001b[0m\u001b[0;34m.\u001b[0m\u001b[0mmean_squared_error\u001b[0m\u001b[0;34m(\u001b[0m\u001b[0my_test\u001b[0m\u001b[0;34m,\u001b[0m \u001b[0my_pred\u001b[0m\u001b[0;34m)\u001b[0m\u001b[0;34m)\u001b[0m\u001b[0;34m\u001b[0m\u001b[0;34m\u001b[0m\u001b[0m\n\u001b[1;32m      4\u001b[0m \u001b[0mprint\u001b[0m\u001b[0;34m(\u001b[0m\u001b[0;34m'Root M.Squared Error:'\u001b[0m\u001b[0;34m,\u001b[0m \u001b[0mnp\u001b[0m\u001b[0;34m.\u001b[0m\u001b[0msqrt\u001b[0m\u001b[0;34m(\u001b[0m\u001b[0mmetrics\u001b[0m\u001b[0;34m.\u001b[0m\u001b[0mmean_squared_error\u001b[0m\u001b[0;34m(\u001b[0m\u001b[0my_test\u001b[0m\u001b[0;34m,\u001b[0m \u001b[0my_pred\u001b[0m\u001b[0;34m)\u001b[0m\u001b[0;34m)\u001b[0m\u001b[0;34m)\u001b[0m\u001b[0;34m\u001b[0m\u001b[0;34m\u001b[0m\u001b[0m\n\u001b[1;32m      5\u001b[0m \u001b[0;34m\u001b[0m\u001b[0m\n",
            "\u001b[0;31mNameError\u001b[0m: name 'y_pred' is not defined"
          ]
        }
      ]
    },
    {
      "cell_type": "markdown",
      "metadata": {
        "id": "bkASTUdw7dQZ"
      },
      "source": [
        "## **10). USING DEEP LEARNING (Linear Regresssion)**\n",
        "i). Building DL Model"
      ]
    },
    {
      "cell_type": "code",
      "metadata": {
        "id": "HcIzTIig7hJQ"
      },
      "source": [
        "from tensorflow.keras.models import Sequential\n",
        "from tensorflow.keras import layers\n",
        "from tensorflow.keras import regularizers"
      ],
      "execution_count": 106,
      "outputs": []
    },
    {
      "cell_type": "code",
      "metadata": {
        "id": "3kIn21AE7hMC"
      },
      "source": [
        "MMS_Predict_PRModel = Sequential()\n",
        "\n",
        "MMS_Predict_PRModel.add(layers.Dense(10, activation='relu', kernel_regularizer =regularizers.l2(0.02), input_shape=(x_train.shape[1],)))\n",
        "MMS_Predict_PRModel.add(layers.Dense(8, activation='relu', kernel_regularizer =regularizers.l2(0.02)))\n",
        "MMS_Predict_PRModel.add(layers.Dense(6, activation='relu', kernel_regularizer =regularizers.l2(0.002)))\n",
        "MMS_Predict_PRModel.add(layers.Dense(4, activation='relu', kernel_regularizer =regularizers.l2(0.002)))\n",
        "#I'm passing 01-Neuron but do not specify Activation function as its Regression.\n",
        "#However, for Binary-Classification i am also using 01-Neurons and Sigmoid/probability as Activation function as as output is Binary.\n",
        "MMS_Predict_PRModel.add(layers.Dense(1))"
      ],
      "execution_count": 107,
      "outputs": []
    },
    {
      "cell_type": "markdown",
      "metadata": {
        "id": "2jbM28sJ86Ha"
      },
      "source": [
        "## **10). USING DEEP LEARNING (Compiling DL Model)**"
      ]
    },
    {
      "cell_type": "code",
      "metadata": {
        "id": "NwATss3H9RAX"
      },
      "source": [
        "from tensorflow import keras\n",
        "#Preparing parameters for Optimizer.\n",
        "opt = keras.optimizers.RMSprop(learning_rate=0.01) #I want lowest learning rate as higher accuracy required.\n",
        "MMS_Predict_PRModel.compile(optimizer=opt, loss='mse', metrics='mae')"
      ],
      "execution_count": 108,
      "outputs": []
    },
    {
      "cell_type": "markdown",
      "metadata": {
        "id": "Jocsmmz49yfJ"
      },
      "source": [
        "## **10). USING DEEP LEARNING (Training/Fitting DL Model)**"
      ]
    },
    {
      "cell_type": "code",
      "metadata": {
        "id": "1jqtb3sN9RDJ"
      },
      "source": [
        "#history = MMS_Predict_PRModel.fit(x_train,y_train, batch_size=16, verbose=0, epochs=200, validation_data=(x_valid_20, y_valid_20))\n",
        "#As i didn't prepare validation data set. Thus, i'm providing TestData.\n",
        "Model_history = MMS_Predict_PRModel.fit(x_train,y_train, batch_size=16, verbose=0, epochs=200, validation_data=(x_test, y_test))"
      ],
      "execution_count": 109,
      "outputs": []
    },
    {
      "cell_type": "code",
      "metadata": {
        "id": "AwBObwrd9RGE"
      },
      "source": [
        "epochs = range(1, 201)\n",
        "train_mae = Model_history.history['mae']\n",
        "val_mae = Model_history.history['val_mae']"
      ],
      "execution_count": 110,
      "outputs": []
    },
    {
      "cell_type": "code",
      "metadata": {
        "colab": {
          "base_uri": "https://localhost:8080/",
          "height": 295
        },
        "id": "SFsO-soJ_HrB",
        "outputId": "34c8dbba-2309-414f-819c-53de1c503de6"
      },
      "source": [
        "plt.plot(epochs, train_mae, 'r', label='Training MAE')\n",
        "plt.plot(epochs, val_mae, 'g', label='Testing MAE')\n",
        "plt.title('Training vs Testing Loss ')\n",
        "plt.xlabel('Epochs')\n",
        "plt.ylabel('MAE')\n",
        "plt.legend()\n",
        "plt.show()"
      ],
      "execution_count": 111,
      "outputs": [
        {
          "output_type": "display_data",
          "data": {
            "image/png": "[encoded data removed]",
            "text/plain": [
              "<Figure size 432x288 with 1 Axes>"
            ]
          },
          "metadata": {
            "tags": [],
            "needs_background": "light"
          }
        }
      ]
    },
    {
      "cell_type": "markdown",
      "metadata": {
        "id": "3-ToY0V9_lrl"
      },
      "source": [
        "## **10). USING DEEP LEARNING (Actual vs Predicted Data)**"
      ]
    },
    {
      "cell_type": "code",
      "metadata": {
        "colab": {
          "base_uri": "https://localhost:8080/"
        },
        "id": "MiqQu3W9o4yX",
        "outputId": "2ef401eb-aef8-42c0-e523-fc942145e62d"
      },
      "source": [
        "print('Predicted Sale:\\n',MMS_Predict_PRModel.predict(x_test))"
      ],
      "execution_count": 112,
      "outputs": [
        {
          "output_type": "stream",
          "text": [
            "Predicted Sale:\n",
            " [[  187.86972]\n",
            " [53683.16   ]\n",
            " [56793.582  ]\n",
            " ...\n",
            " [56302.844  ]\n",
            " [59114.08   ]\n",
            " [60355.61   ]]\n"
          ],
          "name": "stdout"
        }
      ]
    },
    {
      "cell_type": "markdown",
      "metadata": {
        "id": "zPjuocTaAlVA"
      },
      "source": [
        "## **10). USING DEEP LEARNING (Mean Error (AE, SE, MSE)**"
      ]
    },
    {
      "cell_type": "code",
      "metadata": {
        "colab": {
          "base_uri": "https://localhost:8080/"
        },
        "id": "sRlwQs95AMw0",
        "outputId": "b962f4de-9018-455f-dce9-e06d026ed939"
      },
      "source": [
        "test_mse_score, test_mae_score  =MMS_Predict_PRModel.evaluate(x_test, y_test)"
      ],
      "execution_count": 114,
      "outputs": [
        {
          "output_type": "stream",
          "text": [
            "456/456 [==============================] - 0s 953us/step - loss: 45885016.0000 - mae: 4801.1040\n"
          ],
          "name": "stdout"
        }
      ]
    },
    {
      "cell_type": "markdown",
      "metadata": {
        "id": "ScBxRpZao4yY"
      },
      "source": [
        "# Conculsion:"
      ]
    },
    {
      "cell_type": "code",
      "metadata": {
        "id": "ky2M8HgWo4yY"
      },
      "source": [
        "#Evaluate the Model\n",
        "\n",
        "#1. I used Machine learning, Deeplearning (normalizationa, auto featuring). Still need time\n",
        "#2. Perhpas more data required,\n",
        "#3. Bad guess\n",
        "#4. Feature improper selection\n",
        "\n",
        "#Leider, nicht 100% erfolgreich. Ich brauche auch mehr learnen und unbung machen!#\n",
        "\n",
        "\n",
        "# COMMENTS & SUGGESTIONS\n",
        "\n",
        "# You are welcome!"
      ],
      "execution_count": 115,
      "outputs": []
    },
    {
      "cell_type": "code",
      "metadata": {
        "id": "Zy_nvJFBo4yY"
      },
      "source": [
        "# Prediction Model developed by:\n",
        "# Khurram Nazir\n",
        "# khurram.deutsch@yahoo.com\n",
        "# Munich, Germany"
      ],
      "execution_count": 116,
      "outputs": []
    },
    {
      "cell_type": "markdown",
      "metadata": {
        "id": "dQ2A9La9o4yZ"
      },
      "source": [
        "## Modelling\n",
        "Choose a suitable model for predicting the sales_per_day and validating the prediction accuracy. Train and test the model."
      ]
    },
    {
      "cell_type": "code",
      "metadata": {
        "id": "MbB6_Lvgo4yZ"
      },
      "source": [
        "# TODO ... Python coding ... "
      ],
      "execution_count": null,
      "outputs": []
    },
    {
      "cell_type": "markdown",
      "metadata": {
        "id": "GFUPRVvLo4yZ"
      },
      "source": [
        "## Business Problem\n",
        "What other retail data could be relevant to predict the sales_per_day? Give at least 5 different examples and explain in 2-3 sentences why they could be interesting to add to the model."
      ]
    },
    {
      "cell_type": "code",
      "metadata": {
        "id": "dyMf-zG-o4yZ"
      },
      "source": [
        "# TODO ... write down your ideas ..."
      ],
      "execution_count": null,
      "outputs": []
    },
    {
      "cell_type": "markdown",
      "metadata": {
        "id": "YlT8GjgZo4yZ"
      },
      "source": [
        "# Architecture \n",
        "\n",
        "Now pretend you need to build a system which runs the model and should be able to make realtime predictions of the sales per day, everytime new data is generated by the source systems.  \n",
        "You need to design (a) data pipeline(s) which transfers the data from either the sourcesystems or BigQuery to the prediction engine in the format the model/prediction engine can handle it. \n",
        "\n",
        "There are the following preconditions: \n",
        "    \n",
        "    - There are 3 source systems: \n",
        "        - System A: System which handles __sales_per_day__ --> API Connector (Real-Time possible)\n",
        "        - System B: Delivers customers_per_day --> Flat File on SFTP Server once per Day per batch\n",
        "        - System C: Stores brand, country, currency and outled_id --> BigQuery    \n",
        "        - You want to enable realtime predictions\n",
        "    \n",
        "    - You can use any component you like and would use for that use case. Please add to each logical component for your architecture a respective tool or GCP service. (e.g. for the logical component ETL a tool named Google Dataflow)\n",
        "\n",
        "Please describe how your architecure would look like with an architecture picture. Describe how the different components will be connected and communicate. Please elaborate why you have choosen a certain logical component + tooling. We expect a moderate level of details within the architecture "
      ]
    },
    {
      "cell_type": "markdown",
      "metadata": {
        "id": "3dwJBp3Uo4yZ"
      },
      "source": [
        "# Send it to us\n",
        "In the end, please send us: \n",
        "    - The ipython notebook \n",
        "    - An detailed description of your architecture + an architecture picture (PDF). "
      ]
    }
  ]
}