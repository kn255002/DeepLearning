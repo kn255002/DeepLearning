{
  "nbformat": 4,
  "nbformat_minor": 0,
  "metadata": {
    "kernelspec": {
      "display_name": "Python 3",
      "language": "python",
      "name": "python3"
    },
    "language_info": {
      "codemirror_mode": {
        "name": "ipython",
        "version": 3
      },
      "file_extension": ".py",
      "mimetype": "text/x-python",
      "name": "python",
      "nbconvert_exporter": "python",
      "pygments_lexer": "ipython3",
      "version": "3.7.3"
    },
    "colab": {
      "name": "Credit_Card_Fraud_Detection_assignment.ipynb",
      "provenance": [],
      "collapsed_sections": []
    }
  },
  "cells": [
    {
      "cell_type": "markdown",
      "metadata": {
        "id": "DcIIUidkgQMR"
      },
      "source": [
        "# Credit Card Fraud Detection::"
      ]
    },
    {
      "cell_type": "markdown",
      "metadata": {
        "id": "NoUbY5SZgQMX"
      },
      "source": [
        "Download dataset from this link:\n",
        "\n",
        "https://www.kaggle.com/mlg-ulb/creditcardfraud"
      ]
    },
    {
      "cell_type": "markdown",
      "metadata": {
        "id": "-aVY0NfJgQMY"
      },
      "source": [
        "# Description about dataset::"
      ]
    },
    {
      "cell_type": "markdown",
      "metadata": {
        "id": "l5JKjSpngQMY"
      },
      "source": [
        "The datasets contains transactions made by credit cards in September 2013 by european cardholders.\n",
        "This dataset presents transactions that occurred in two days, where we have 492 frauds out of 284,807 transactions. The dataset is highly unbalanced, the positive class (frauds) account for 0.172% of all transactions.\n",
        "\n",
        "It contains only numerical input variables which are the result of a PCA transformation. Unfortunately, due to confidentiality issues, we cannot provide the original features and more background information about the data. Features V1, V2, … V28 are the principal components obtained with PCA, the only features which have not been transformed with PCA are 'Time' and 'Amount'. Feature 'Time' contains the seconds elapsed between each transaction and the first transaction in the dataset. The feature 'Amount' is the transaction Amount, this feature can be used for example-dependant cost-senstive learning. \n",
        "\n",
        "\n",
        "### Feature 'Class' is the response variable and it takes value 1 in case of fraud and 0 otherwise."
      ]
    },
    {
      "cell_type": "markdown",
      "metadata": {
        "id": "gsfQk8KngQMZ"
      },
      "source": [
        "# WORKFLOW :"
      ]
    },
    {
      "cell_type": "markdown",
      "metadata": {
        "id": "g97HlYVEgQMa"
      },
      "source": [
        "1.Load Data\n",
        "\n",
        "2.Check Missing Values ( If Exist ; Fill each record with mean of its feature )\n",
        "\n",
        "3.Standardized the Input Variables. \n",
        "\n",
        "4.Split into 50% Training(Samples,Labels) , 30% Test(Samples,Labels) and 20% Validation Data(Samples,Labels).\n",
        "\n",
        "5.Model : input Layer (No. of features ), 3 hidden layers including 10,8,6 unit & Output Layer with activation function relu/tanh (check by experiment).\n",
        "\n",
        "6.Compilation Step (Note : Its a Binary problem , select loss , metrics according to it)\n",
        "\n",
        "7.Train the Model with Epochs (100).\n",
        "\n",
        "8.If the model gets overfit tune your model by changing the units , No. of layers , epochs , add dropout layer or add Regularizer according to the need .\n",
        "\n",
        "9.Prediction should be > 92%\n",
        "10.Evaluation Step\n",
        "11Prediction\n"
      ]
    },
    {
      "cell_type": "markdown",
      "metadata": {
        "id": "FdDEsgaSjD6V"
      },
      "source": [
        ""
      ]
    },
    {
      "cell_type": "markdown",
      "metadata": {
        "id": "SMA7kqgkgQMa"
      },
      "source": [
        "# Task::"
      ]
    },
    {
      "cell_type": "markdown",
      "metadata": {
        "id": "mBuW37DIgQMa"
      },
      "source": [
        "## Identify fraudulent credit card transactions."
      ]
    },
    {
      "cell_type": "markdown",
      "metadata": {
        "id": "1ZhD3UK-hmAN"
      },
      "source": [
        "**1. Load Data**\n",
        "Loading and immediately shuffeling Data frame."
      ]
    },
    {
      "cell_type": "code",
      "metadata": {
        "colab": {
          "resources": {
            "http://localhost:8080/nbextensions/google.colab/files.js": {
              "data": "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",
              "ok": true,
              "headers": [
                [
                  "content-type",
                  "application/javascript"
                ]
              ],
              "status": 200,
              "status_text": ""
            }
          },
          "base_uri": "https://localhost:8080/",
          "height": 73
        },
        "id": "CsQJ-Z4RgQMa",
        "outputId": "cfe3ba4d-0127-4539-bec4-4db39c5ee72f"
      },
      "source": [
        "# Prediction Model developed by:\n",
        "# Khurram Nazir\n",
        "#  \n",
        "#\n",
        "import pandas as pd\n",
        "import numpy as np\n",
        "import seaborn as sns\n",
        "#\n",
        "\n",
        "import io\n",
        "from google.colab import files\n",
        "\n",
        "uploaded_file = files.upload()\n",
        "#df = pd.read_csv(\"C:/Users/khurr/Documents/GitHub/AI-Engineering/PIAIC/Quarter-2/DeepLearning/CreditCardFraudDetection/creditcard.csv\",sep=',')\n",
        "df = pd.DataFrame(pd.read_csv(io.BytesIO(uploaded_file['creditcard.csv']),sep=','))"
      ],
      "execution_count": 1,
      "outputs": [
        {
          "output_type": "display_data",
          "data": {
            "text/html": [
              "\n",
              "     <input type=\"file\" id=\"files-11bba33c-0c82-437e-9a45-04da206c5546\" name=\"files[]\" multiple disabled\n",
              "        style=\"border:none\" />\n",
              "     <output id=\"result-11bba33c-0c82-437e-9a45-04da206c5546\">\n",
              "      Upload widget is only available when the cell has been executed in the\n",
              "      current browser session. Please rerun this cell to enable.\n",
              "      </output>\n",
              "      <script src=\"/nbextensions/google.colab/files.js\"></script> "
            ],
            "text/plain": [
              "<IPython.core.display.HTML object>"
            ]
          },
          "metadata": {
            "tags": []
          }
        },
        {
          "output_type": "stream",
          "text": [
            "Saving creditcard.csv to creditcard.csv\n"
          ],
          "name": "stdout"
        }
      ]
    },
    {
      "cell_type": "markdown",
      "metadata": {
        "id": "qreMKOKSm491"
      },
      "source": [
        "**Data Preprocessing**"
      ]
    },
    {
      "cell_type": "code",
      "metadata": {
        "colab": {
          "base_uri": "https://localhost:8080/",
          "height": 424
        },
        "id": "UmL4NfbRgQMb",
        "outputId": "0be9b805-f7e1-49ec-f306-11d8f4be6674"
      },
      "source": [
        "df = df.sample(frac=1) #Shuffeling DF.\n",
        "df"
      ],
      "execution_count": 2,
      "outputs": [
        {
          "output_type": "execute_result",
          "data": {
            "text/html": [
              "<div>\n",
              "<style scoped>\n",
              "    .dataframe tbody tr th:only-of-type {\n",
              "        vertical-align: middle;\n",
              "    }\n",
              "\n",
              "    .dataframe tbody tr th {\n",
              "        vertical-align: top;\n",
              "    }\n",
              "\n",
              "    .dataframe thead th {\n",
              "        text-align: right;\n",
              "    }\n",
              "</style>\n",
              "<table border=\"1\" class=\"dataframe\">\n",
              "  <thead>\n",
              "    <tr style=\"text-align: right;\">\n",
              "      <th></th>\n",
              "      <th>Time</th>\n",
              "      <th>V1</th>\n",
              "      <th>V2</th>\n",
              "      <th>V3</th>\n",
              "      <th>V4</th>\n",
              "      <th>V5</th>\n",
              "      <th>V6</th>\n",
              "      <th>V7</th>\n",
              "      <th>V8</th>\n",
              "      <th>V9</th>\n",
              "      <th>V10</th>\n",
              "      <th>V11</th>\n",
              "      <th>V12</th>\n",
              "      <th>V13</th>\n",
              "      <th>V14</th>\n",
              "      <th>V15</th>\n",
              "      <th>V16</th>\n",
              "      <th>V17</th>\n",
              "      <th>V18</th>\n",
              "      <th>V19</th>\n",
              "      <th>V20</th>\n",
              "      <th>V21</th>\n",
              "      <th>V22</th>\n",
              "      <th>V23</th>\n",
              "      <th>V24</th>\n",
              "      <th>V25</th>\n",
              "      <th>V26</th>\n",
              "      <th>V27</th>\n",
              "      <th>V28</th>\n",
              "      <th>Amount</th>\n",
              "      <th>Class</th>\n",
              "    </tr>\n",
              "  </thead>\n",
              "  <tbody>\n",
              "    <tr>\n",
              "      <th>265007</th>\n",
              "      <td>161690.0</td>\n",
              "      <td>2.065653</td>\n",
              "      <td>0.076528</td>\n",
              "      <td>-1.890608</td>\n",
              "      <td>0.190315</td>\n",
              "      <td>0.687719</td>\n",
              "      <td>-0.284586</td>\n",
              "      <td>0.056038</td>\n",
              "      <td>-0.044651</td>\n",
              "      <td>0.304341</td>\n",
              "      <td>-0.201559</td>\n",
              "      <td>0.655757</td>\n",
              "      <td>0.545933</td>\n",
              "      <td>-0.178630</td>\n",
              "      <td>-0.628446</td>\n",
              "      <td>-0.433077</td>\n",
              "      <td>0.665662</td>\n",
              "      <td>0.060394</td>\n",
              "      <td>0.375744</td>\n",
              "      <td>0.526700</td>\n",
              "      <td>-0.144307</td>\n",
              "      <td>-0.347463</td>\n",
              "      <td>-0.941506</td>\n",
              "      <td>0.270161</td>\n",
              "      <td>-0.010031</td>\n",
              "      <td>-0.231827</td>\n",
              "      <td>0.185049</td>\n",
              "      <td>-0.068782</td>\n",
              "      <td>-0.046031</td>\n",
              "      <td>1.98</td>\n",
              "      <td>0</td>\n",
              "    </tr>\n",
              "    <tr>\n",
              "      <th>166387</th>\n",
              "      <td>118048.0</td>\n",
              "      <td>2.043751</td>\n",
              "      <td>-0.177577</td>\n",
              "      <td>-2.040528</td>\n",
              "      <td>0.297271</td>\n",
              "      <td>0.673121</td>\n",
              "      <td>-0.464096</td>\n",
              "      <td>0.412349</td>\n",
              "      <td>-0.227793</td>\n",
              "      <td>0.240261</td>\n",
              "      <td>0.304166</td>\n",
              "      <td>-0.206384</td>\n",
              "      <td>0.425056</td>\n",
              "      <td>-0.554168</td>\n",
              "      <td>0.671432</td>\n",
              "      <td>-1.026733</td>\n",
              "      <td>-0.057696</td>\n",
              "      <td>-0.683512</td>\n",
              "      <td>0.093440</td>\n",
              "      <td>0.807395</td>\n",
              "      <td>-0.168511</td>\n",
              "      <td>-0.028828</td>\n",
              "      <td>0.002328</td>\n",
              "      <td>-0.093060</td>\n",
              "      <td>-0.998132</td>\n",
              "      <td>0.293728</td>\n",
              "      <td>0.421426</td>\n",
              "      <td>-0.097867</td>\n",
              "      <td>-0.089670</td>\n",
              "      <td>38.91</td>\n",
              "      <td>0</td>\n",
              "    </tr>\n",
              "    <tr>\n",
              "      <th>126380</th>\n",
              "      <td>77995.0</td>\n",
              "      <td>-1.028740</td>\n",
              "      <td>0.783407</td>\n",
              "      <td>2.013125</td>\n",
              "      <td>0.047793</td>\n",
              "      <td>0.381761</td>\n",
              "      <td>-0.100788</td>\n",
              "      <td>0.851027</td>\n",
              "      <td>0.169390</td>\n",
              "      <td>-0.983322</td>\n",
              "      <td>-0.644080</td>\n",
              "      <td>1.511992</td>\n",
              "      <td>0.809079</td>\n",
              "      <td>0.015468</td>\n",
              "      <td>0.354114</td>\n",
              "      <td>-0.088115</td>\n",
              "      <td>0.190407</td>\n",
              "      <td>-0.619442</td>\n",
              "      <td>-0.009339</td>\n",
              "      <td>-1.124233</td>\n",
              "      <td>0.000636</td>\n",
              "      <td>0.219734</td>\n",
              "      <td>0.454106</td>\n",
              "      <td>-0.213934</td>\n",
              "      <td>0.209396</td>\n",
              "      <td>0.521726</td>\n",
              "      <td>-0.416102</td>\n",
              "      <td>0.031386</td>\n",
              "      <td>0.060762</td>\n",
              "      <td>52.80</td>\n",
              "      <td>0</td>\n",
              "    </tr>\n",
              "    <tr>\n",
              "      <th>62161</th>\n",
              "      <td>50158.0</td>\n",
              "      <td>0.522988</td>\n",
              "      <td>-1.108418</td>\n",
              "      <td>-0.081205</td>\n",
              "      <td>-1.445958</td>\n",
              "      <td>-0.384996</td>\n",
              "      <td>-0.871137</td>\n",
              "      <td>-0.699203</td>\n",
              "      <td>-0.179787</td>\n",
              "      <td>-1.924396</td>\n",
              "      <td>1.607719</td>\n",
              "      <td>-1.522341</td>\n",
              "      <td>-1.272953</td>\n",
              "      <td>0.741150</td>\n",
              "      <td>-0.335018</td>\n",
              "      <td>0.403766</td>\n",
              "      <td>-0.517774</td>\n",
              "      <td>0.286340</td>\n",
              "      <td>0.532781</td>\n",
              "      <td>0.647039</td>\n",
              "      <td>-0.106303</td>\n",
              "      <td>0.095070</td>\n",
              "      <td>0.590239</td>\n",
              "      <td>0.583874</td>\n",
              "      <td>-0.485140</td>\n",
              "      <td>-2.334669</td>\n",
              "      <td>-0.509842</td>\n",
              "      <td>0.415400</td>\n",
              "      <td>0.389878</td>\n",
              "      <td>45.00</td>\n",
              "      <td>0</td>\n",
              "    </tr>\n",
              "    <tr>\n",
              "      <th>248140</th>\n",
              "      <td>153806.0</td>\n",
              "      <td>2.079320</td>\n",
              "      <td>-1.270338</td>\n",
              "      <td>0.559284</td>\n",
              "      <td>-0.393921</td>\n",
              "      <td>-2.014841</td>\n",
              "      <td>-0.398976</td>\n",
              "      <td>-1.618667</td>\n",
              "      <td>0.106634</td>\n",
              "      <td>1.009580</td>\n",
              "      <td>0.509132</td>\n",
              "      <td>-0.955029</td>\n",
              "      <td>-0.053722</td>\n",
              "      <td>-0.066870</td>\n",
              "      <td>-1.172215</td>\n",
              "      <td>-1.060193</td>\n",
              "      <td>0.773782</td>\n",
              "      <td>0.663593</td>\n",
              "      <td>-1.434938</td>\n",
              "      <td>0.647675</td>\n",
              "      <td>-0.091678</td>\n",
              "      <td>0.161708</td>\n",
              "      <td>0.787500</td>\n",
              "      <td>0.294525</td>\n",
              "      <td>0.491761</td>\n",
              "      <td>-0.401517</td>\n",
              "      <td>-0.216919</td>\n",
              "      <td>0.062831</td>\n",
              "      <td>-0.033547</td>\n",
              "      <td>1.50</td>\n",
              "      <td>0</td>\n",
              "    </tr>\n",
              "    <tr>\n",
              "      <th>...</th>\n",
              "      <td>...</td>\n",
              "      <td>...</td>\n",
              "      <td>...</td>\n",
              "      <td>...</td>\n",
              "      <td>...</td>\n",
              "      <td>...</td>\n",
              "      <td>...</td>\n",
              "      <td>...</td>\n",
              "      <td>...</td>\n",
              "      <td>...</td>\n",
              "      <td>...</td>\n",
              "      <td>...</td>\n",
              "      <td>...</td>\n",
              "      <td>...</td>\n",
              "      <td>...</td>\n",
              "      <td>...</td>\n",
              "      <td>...</td>\n",
              "      <td>...</td>\n",
              "      <td>...</td>\n",
              "      <td>...</td>\n",
              "      <td>...</td>\n",
              "      <td>...</td>\n",
              "      <td>...</td>\n",
              "      <td>...</td>\n",
              "      <td>...</td>\n",
              "      <td>...</td>\n",
              "      <td>...</td>\n",
              "      <td>...</td>\n",
              "      <td>...</td>\n",
              "      <td>...</td>\n",
              "      <td>...</td>\n",
              "    </tr>\n",
              "    <tr>\n",
              "      <th>27179</th>\n",
              "      <td>34427.0</td>\n",
              "      <td>1.030494</td>\n",
              "      <td>0.460082</td>\n",
              "      <td>-0.207029</td>\n",
              "      <td>1.166616</td>\n",
              "      <td>0.670417</td>\n",
              "      <td>0.658590</td>\n",
              "      <td>-0.034619</td>\n",
              "      <td>0.334678</td>\n",
              "      <td>-0.119347</td>\n",
              "      <td>-0.740677</td>\n",
              "      <td>1.278434</td>\n",
              "      <td>0.432842</td>\n",
              "      <td>-0.163901</td>\n",
              "      <td>-0.870600</td>\n",
              "      <td>2.120708</td>\n",
              "      <td>-0.870113</td>\n",
              "      <td>1.964001</td>\n",
              "      <td>-1.602188</td>\n",
              "      <td>-2.250557</td>\n",
              "      <td>-0.254318</td>\n",
              "      <td>0.091289</td>\n",
              "      <td>0.482990</td>\n",
              "      <td>0.049264</td>\n",
              "      <td>-0.741381</td>\n",
              "      <td>0.333040</td>\n",
              "      <td>-0.219186</td>\n",
              "      <td>0.103224</td>\n",
              "      <td>0.038891</td>\n",
              "      <td>1.00</td>\n",
              "      <td>0</td>\n",
              "    </tr>\n",
              "    <tr>\n",
              "      <th>178329</th>\n",
              "      <td>123587.0</td>\n",
              "      <td>2.025387</td>\n",
              "      <td>-0.203560</td>\n",
              "      <td>-1.206455</td>\n",
              "      <td>0.241187</td>\n",
              "      <td>-0.022071</td>\n",
              "      <td>-0.725580</td>\n",
              "      <td>0.022075</td>\n",
              "      <td>-0.116211</td>\n",
              "      <td>0.444973</td>\n",
              "      <td>0.266391</td>\n",
              "      <td>0.511671</td>\n",
              "      <td>0.522706</td>\n",
              "      <td>-0.902254</td>\n",
              "      <td>0.641577</td>\n",
              "      <td>-0.533015</td>\n",
              "      <td>0.229557</td>\n",
              "      <td>-0.601098</td>\n",
              "      <td>-0.153098</td>\n",
              "      <td>0.559825</td>\n",
              "      <td>-0.246450</td>\n",
              "      <td>-0.264411</td>\n",
              "      <td>-0.726711</td>\n",
              "      <td>0.292314</td>\n",
              "      <td>-0.361280</td>\n",
              "      <td>-0.320625</td>\n",
              "      <td>0.200566</td>\n",
              "      <td>-0.082657</td>\n",
              "      <td>-0.073946</td>\n",
              "      <td>9.99</td>\n",
              "      <td>0</td>\n",
              "    </tr>\n",
              "    <tr>\n",
              "      <th>183734</th>\n",
              "      <td>125930.0</td>\n",
              "      <td>1.265344</td>\n",
              "      <td>-1.686292</td>\n",
              "      <td>-0.170541</td>\n",
              "      <td>1.156999</td>\n",
              "      <td>-1.429407</td>\n",
              "      <td>-0.040766</td>\n",
              "      <td>-0.415781</td>\n",
              "      <td>0.014365</td>\n",
              "      <td>1.731439</td>\n",
              "      <td>-0.323086</td>\n",
              "      <td>-1.350034</td>\n",
              "      <td>0.674232</td>\n",
              "      <td>-0.030012</td>\n",
              "      <td>-0.599595</td>\n",
              "      <td>-0.840208</td>\n",
              "      <td>-0.040787</td>\n",
              "      <td>-0.071280</td>\n",
              "      <td>-0.390799</td>\n",
              "      <td>0.065251</td>\n",
              "      <td>0.474590</td>\n",
              "      <td>0.011712</td>\n",
              "      <td>-0.385965</td>\n",
              "      <td>0.023869</td>\n",
              "      <td>0.079860</td>\n",
              "      <td>-0.581852</td>\n",
              "      <td>0.082143</td>\n",
              "      <td>-0.046367</td>\n",
              "      <td>0.023073</td>\n",
              "      <td>355.66</td>\n",
              "      <td>0</td>\n",
              "    </tr>\n",
              "    <tr>\n",
              "      <th>221737</th>\n",
              "      <td>142682.0</td>\n",
              "      <td>-1.028454</td>\n",
              "      <td>1.554847</td>\n",
              "      <td>-0.663291</td>\n",
              "      <td>0.215667</td>\n",
              "      <td>0.297074</td>\n",
              "      <td>0.723943</td>\n",
              "      <td>-1.256695</td>\n",
              "      <td>-5.486923</td>\n",
              "      <td>-2.763389</td>\n",
              "      <td>-0.230406</td>\n",
              "      <td>0.079923</td>\n",
              "      <td>1.328651</td>\n",
              "      <td>0.847991</td>\n",
              "      <td>1.097459</td>\n",
              "      <td>-1.494411</td>\n",
              "      <td>-2.074548</td>\n",
              "      <td>0.228363</td>\n",
              "      <td>1.595375</td>\n",
              "      <td>0.173658</td>\n",
              "      <td>0.810973</td>\n",
              "      <td>-2.693998</td>\n",
              "      <td>1.043290</td>\n",
              "      <td>0.085368</td>\n",
              "      <td>-0.355208</td>\n",
              "      <td>-0.227466</td>\n",
              "      <td>-0.429283</td>\n",
              "      <td>0.201790</td>\n",
              "      <td>0.228354</td>\n",
              "      <td>39.99</td>\n",
              "      <td>0</td>\n",
              "    </tr>\n",
              "    <tr>\n",
              "      <th>111007</th>\n",
              "      <td>72058.0</td>\n",
              "      <td>-0.304871</td>\n",
              "      <td>0.414378</td>\n",
              "      <td>0.399627</td>\n",
              "      <td>-0.107595</td>\n",
              "      <td>2.655044</td>\n",
              "      <td>3.884938</td>\n",
              "      <td>0.127195</td>\n",
              "      <td>0.782973</td>\n",
              "      <td>-0.184383</td>\n",
              "      <td>-0.167631</td>\n",
              "      <td>-0.532317</td>\n",
              "      <td>-0.137305</td>\n",
              "      <td>-0.224124</td>\n",
              "      <td>-0.142337</td>\n",
              "      <td>0.194730</td>\n",
              "      <td>-0.421447</td>\n",
              "      <td>-0.404487</td>\n",
              "      <td>0.153099</td>\n",
              "      <td>1.256421</td>\n",
              "      <td>0.242611</td>\n",
              "      <td>-0.237353</td>\n",
              "      <td>-0.540133</td>\n",
              "      <td>-0.127845</td>\n",
              "      <td>0.985899</td>\n",
              "      <td>-0.046888</td>\n",
              "      <td>-0.502739</td>\n",
              "      <td>-0.002254</td>\n",
              "      <td>-0.083484</td>\n",
              "      <td>16.84</td>\n",
              "      <td>0</td>\n",
              "    </tr>\n",
              "  </tbody>\n",
              "</table>\n",
              "<p>284807 rows × 31 columns</p>\n",
              "</div>"
            ],
            "text/plain": [
              "            Time        V1        V2  ...       V28  Amount  Class\n",
              "265007  161690.0  2.065653  0.076528  ... -0.046031    1.98      0\n",
              "166387  118048.0  2.043751 -0.177577  ... -0.089670   38.91      0\n",
              "126380   77995.0 -1.028740  0.783407  ...  0.060762   52.80      0\n",
              "62161    50158.0  0.522988 -1.108418  ...  0.389878   45.00      0\n",
              "248140  153806.0  2.079320 -1.270338  ... -0.033547    1.50      0\n",
              "...          ...       ...       ...  ...       ...     ...    ...\n",
              "27179    34427.0  1.030494  0.460082  ...  0.038891    1.00      0\n",
              "178329  123587.0  2.025387 -0.203560  ... -0.073946    9.99      0\n",
              "183734  125930.0  1.265344 -1.686292  ...  0.023073  355.66      0\n",
              "221737  142682.0 -1.028454  1.554847  ...  0.228354   39.99      0\n",
              "111007   72058.0 -0.304871  0.414378  ... -0.083484   16.84      0\n",
              "\n",
              "[284807 rows x 31 columns]"
            ]
          },
          "metadata": {
            "tags": []
          },
          "execution_count": 2
        }
      ]
    },
    {
      "cell_type": "code",
      "metadata": {
        "id": "A5HhgjC-gQMb"
      },
      "source": [
        "def df_lookslike(v_df):\n",
        "    #---------------------------------------How dataframe looks like?\n",
        "    v_df.info()\n",
        "    print(v_df.head(5))\n",
        "    total_cells=np.product(v_df.shape)\n",
        "    num_col = [i for i in v_df.columns if (v_df[i].dtype=='int64' or v_df[i].dtype=='float64')]\n",
        "    print(v_df[num_col].describe().loc[['min','max', 'mean','50%'],:]) #How big is Messy data?\n",
        "    missing_Values=v_df.isnull().sum()\n",
        "    print(missing_Values)\n",
        "    total_missing=missing_Values.sum()\n",
        "\n",
        "    #Percent of Missing data\n",
        "    print(\"Percent of data is missing:\",((total_missing/total_cells) * 100))\n",
        "    print(df[df.Time.isnull() == True ])\n",
        "    print(df[df.Time.isna() == True ])\n",
        "\n",
        "    "
      ],
      "execution_count": 13,
      "outputs": []
    },
    {
      "cell_type": "markdown",
      "metadata": {
        "id": "AG5RiE4MheL9"
      },
      "source": [
        "**2. Check Missing Values**\n",
        "( If Exist ; Fill each record with mean of its feature )\n",
        "\n",
        "I found there is NO missing/NULL data."
      ]
    },
    {
      "cell_type": "code",
      "metadata": {
        "colab": {
          "base_uri": "https://localhost:8080/"
        },
        "id": "s4l7rF1NgQMb",
        "outputId": "1cee1fea-0206-4212-badb-712755e61203"
      },
      "source": [
        "df_lookslike(df)# How DF looks like?"
      ],
      "execution_count": 14,
      "outputs": [
        {
          "output_type": "stream",
          "text": [
            "<class 'pandas.core.frame.DataFrame'>\n",
            "Int64Index: 284807 entries, 265007 to 111007\n",
            "Data columns (total 31 columns):\n",
            " #   Column  Non-Null Count   Dtype  \n",
            "---  ------  --------------   -----  \n",
            " 0   Time    284807 non-null  float64\n",
            " 1   V1      284807 non-null  float64\n",
            " 2   V2      284807 non-null  float64\n",
            " 3   V3      284807 non-null  float64\n",
            " 4   V4      284807 non-null  float64\n",
            " 5   V5      284807 non-null  float64\n",
            " 6   V6      284807 non-null  float64\n",
            " 7   V7      284807 non-null  float64\n",
            " 8   V8      284807 non-null  float64\n",
            " 9   V9      284807 non-null  float64\n",
            " 10  V10     284807 non-null  float64\n",
            " 11  V11     284807 non-null  float64\n",
            " 12  V12     284807 non-null  float64\n",
            " 13  V13     284807 non-null  float64\n",
            " 14  V14     284807 non-null  float64\n",
            " 15  V15     284807 non-null  float64\n",
            " 16  V16     284807 non-null  float64\n",
            " 17  V17     284807 non-null  float64\n",
            " 18  V18     284807 non-null  float64\n",
            " 19  V19     284807 non-null  float64\n",
            " 20  V20     284807 non-null  float64\n",
            " 21  V21     284807 non-null  float64\n",
            " 22  V22     284807 non-null  float64\n",
            " 23  V23     284807 non-null  float64\n",
            " 24  V24     284807 non-null  float64\n",
            " 25  V25     284807 non-null  float64\n",
            " 26  V26     284807 non-null  float64\n",
            " 27  V27     284807 non-null  float64\n",
            " 28  V28     284807 non-null  float64\n",
            " 29  Amount  284807 non-null  float64\n",
            " 30  Class   284807 non-null  int64  \n",
            "dtypes: float64(30), int64(1)\n",
            "memory usage: 69.5 MB\n",
            "            Time        V1        V2  ...       V28  Amount  Class\n",
            "265007  161690.0  2.065653  0.076528  ... -0.046031    1.98      0\n",
            "166387  118048.0  2.043751 -0.177577  ... -0.089670   38.91      0\n",
            "126380   77995.0 -1.028740  0.783407  ...  0.060762   52.80      0\n",
            "62161    50158.0  0.522988 -1.108418  ...  0.389878   45.00      0\n",
            "248140  153806.0  2.079320 -1.270338  ... -0.033547    1.50      0\n",
            "\n",
            "[5 rows x 31 columns]\n",
            "               Time            V1  ...        Amount     Class\n",
            "min        0.000000 -5.640751e+01  ...      0.000000  0.000000\n",
            "max   172792.000000  2.454930e+00  ...  25691.160000  1.000000\n",
            "mean   94813.859575  1.157684e-15  ...     88.349619  0.001727\n",
            "50%    84692.000000  1.810880e-02  ...     22.000000  0.000000\n",
            "\n",
            "[4 rows x 31 columns]\n",
            "Time      0\n",
            "V1        0\n",
            "V2        0\n",
            "V3        0\n",
            "V4        0\n",
            "V5        0\n",
            "V6        0\n",
            "V7        0\n",
            "V8        0\n",
            "V9        0\n",
            "V10       0\n",
            "V11       0\n",
            "V12       0\n",
            "V13       0\n",
            "V14       0\n",
            "V15       0\n",
            "V16       0\n",
            "V17       0\n",
            "V18       0\n",
            "V19       0\n",
            "V20       0\n",
            "V21       0\n",
            "V22       0\n",
            "V23       0\n",
            "V24       0\n",
            "V25       0\n",
            "V26       0\n",
            "V27       0\n",
            "V28       0\n",
            "Amount    0\n",
            "Class     0\n",
            "dtype: int64\n",
            "Percent of data is missing: 0.0\n",
            "Empty DataFrame\n",
            "Columns: [Time, V1, V2, V3, V4, V5, V6, V7, V8, V9, V10, V11, V12, V13, V14, V15, V16, V17, V18, V19, V20, V21, V22, V23, V24, V25, V26, V27, V28, Amount, Class]\n",
            "Index: []\n",
            "Empty DataFrame\n",
            "Columns: [Time, V1, V2, V3, V4, V5, V6, V7, V8, V9, V10, V11, V12, V13, V14, V15, V16, V17, V18, V19, V20, V21, V22, V23, V24, V25, V26, V27, V28, Amount, Class]\n",
            "Index: []\n"
          ],
          "name": "stdout"
        }
      ]
    },
    {
      "cell_type": "code",
      "metadata": {
        "colab": {
          "base_uri": "https://localhost:8080/"
        },
        "id": "xRo7Dqy2nSWS",
        "outputId": "44144b33-7f69-46a9-db58-2acde043f1e3"
      },
      "source": [
        ""
      ],
      "execution_count": 12,
      "outputs": [
        {
          "output_type": "stream",
          "text": [
            "Empty DataFrame\n",
            "Columns: [Time, V1, V2, V3, V4, V5, V6, V7, V8, V9, V10, V11, V12, V13, V14, V15, V16, V17, V18, V19, V20, V21, V22, V23, V24, V25, V26, V27, V28, Amount, Class]\n",
            "Index: []\n",
            "Empty DataFrame\n",
            "Columns: [Time, V1, V2, V3, V4, V5, V6, V7, V8, V9, V10, V11, V12, V13, V14, V15, V16, V17, V18, V19, V20, V21, V22, V23, V24, V25, V26, V27, V28, Amount, Class]\n",
            "Index: []\n"
          ],
          "name": "stdout"
        }
      ]
    },
    {
      "cell_type": "markdown",
      "metadata": {
        "id": "hSqqp8Ftn0Yn"
      },
      "source": [
        "**Preparing Tensor / Vectorization bold text**"
      ]
    },
    {
      "cell_type": "code",
      "metadata": {
        "id": "2Ma_zZX0gQMb"
      },
      "source": [
        ""
      ],
      "execution_count": null,
      "outputs": []
    },
    {
      "cell_type": "code",
      "metadata": {
        "id": "HNESPT7YgQMc"
      },
      "source": [
        "3.Standardized the Input Variables."
      ],
      "execution_count": null,
      "outputs": []
    },
    {
      "cell_type": "markdown",
      "metadata": {
        "id": "m-1c8hJaiRbs"
      },
      "source": [
        "**3.  Standardized the Input Variables**"
      ]
    },
    {
      "cell_type": "code",
      "metadata": {
        "id": "LWyW_oxYgQMc"
      },
      "source": [
        ""
      ],
      "execution_count": null,
      "outputs": []
    },
    {
      "cell_type": "markdown",
      "metadata": {
        "id": "zAj0lfgUiX_Z"
      },
      "source": [
        "**4. Split data**\n",
        "into 50% Training(Samples,Labels) , 30% Test(Samples,Labels) and 20% Validation Data(Samples,Labels)."
      ]
    },
    {
      "cell_type": "code",
      "metadata": {
        "colab": {
          "base_uri": "https://localhost:8080/"
        },
        "id": "YWUWtQi7gQMc",
        "outputId": "12e6490d-81bc-43b7-dc99-e8e58f564083"
      },
      "source": [
        "Y=df.iloc[:,-1]\n",
        "df.drop(columns=['Class'], inplace=True)\n",
        "Y.head(5)\n",
        "X=df\n",
        "X.head(5)"
      ],
      "execution_count": 35,
      "outputs": [
        {
          "output_type": "execute_result",
          "data": {
            "text/plain": [
              "265007    0\n",
              "166387    0\n",
              "126380    0\n",
              "62161     0\n",
              "248140    0\n",
              "Name: Class, dtype: int64"
            ]
          },
          "metadata": {
            "tags": []
          },
          "execution_count": 35
        }
      ]
    },
    {
      "cell_type": "code",
      "metadata": {
        "colab": {
          "base_uri": "https://localhost:8080/"
        },
        "id": "LMUXOZ_jtE2f",
        "outputId": "d56e5202-52f6-47a8-d5a0-4f4e3a7fa46c"
      },
      "source": [
        "from sklearn.model_selection import train_test_split\n",
        "\n",
        "x_train,x_test,y_train,y_test=train_test_split(X,Y,test_size=0.8,random_state=0)\n",
        "\n",
        "print(\"Training Data-X [80%]:\\t\", x_train.shape)\n",
        "print(\"Test Data-X [20%]:\\t\", x_test.shape)"
      ],
      "execution_count": 37,
      "outputs": [
        {
          "output_type": "stream",
          "text": [
            "Training Data-X [80%]:\t (56961, 30)\n",
            "Test Data-X [20%]:\t (227846, 30)\n"
          ],
          "name": "stdout"
        }
      ]
    },
    {
      "cell_type": "code",
      "metadata": {
        "colab": {
          "base_uri": "https://localhost:8080/",
          "height": 216
        },
        "id": "Tzod9o-pgQMc",
        "outputId": "1d58ba94-0bdb-4dbf-bd45-a832b103a4c3"
      },
      "source": [
        "df.head(5)"
      ],
      "execution_count": 38,
      "outputs": [
        {
          "output_type": "execute_result",
          "data": {
            "text/html": [
              "<div>\n",
              "<style scoped>\n",
              "    .dataframe tbody tr th:only-of-type {\n",
              "        vertical-align: middle;\n",
              "    }\n",
              "\n",
              "    .dataframe tbody tr th {\n",
              "        vertical-align: top;\n",
              "    }\n",
              "\n",
              "    .dataframe thead th {\n",
              "        text-align: right;\n",
              "    }\n",
              "</style>\n",
              "<table border=\"1\" class=\"dataframe\">\n",
              "  <thead>\n",
              "    <tr style=\"text-align: right;\">\n",
              "      <th></th>\n",
              "      <th>Time</th>\n",
              "      <th>V1</th>\n",
              "      <th>V2</th>\n",
              "      <th>V3</th>\n",
              "      <th>V4</th>\n",
              "      <th>V5</th>\n",
              "      <th>V6</th>\n",
              "      <th>V7</th>\n",
              "      <th>V8</th>\n",
              "      <th>V9</th>\n",
              "      <th>V10</th>\n",
              "      <th>V11</th>\n",
              "      <th>V12</th>\n",
              "      <th>V13</th>\n",
              "      <th>V14</th>\n",
              "      <th>V15</th>\n",
              "      <th>V16</th>\n",
              "      <th>V17</th>\n",
              "      <th>V18</th>\n",
              "      <th>V19</th>\n",
              "      <th>V20</th>\n",
              "      <th>V21</th>\n",
              "      <th>V22</th>\n",
              "      <th>V23</th>\n",
              "      <th>V24</th>\n",
              "      <th>V25</th>\n",
              "      <th>V26</th>\n",
              "      <th>V27</th>\n",
              "      <th>V28</th>\n",
              "      <th>Amount</th>\n",
              "    </tr>\n",
              "  </thead>\n",
              "  <tbody>\n",
              "    <tr>\n",
              "      <th>265007</th>\n",
              "      <td>1.408273</td>\n",
              "      <td>2.065653</td>\n",
              "      <td>0.076528</td>\n",
              "      <td>-1.890608</td>\n",
              "      <td>0.190315</td>\n",
              "      <td>0.687719</td>\n",
              "      <td>-0.284586</td>\n",
              "      <td>0.056038</td>\n",
              "      <td>-0.044651</td>\n",
              "      <td>0.304341</td>\n",
              "      <td>-0.201559</td>\n",
              "      <td>0.655757</td>\n",
              "      <td>0.545933</td>\n",
              "      <td>-0.178630</td>\n",
              "      <td>-0.628446</td>\n",
              "      <td>-0.433077</td>\n",
              "      <td>0.665662</td>\n",
              "      <td>0.060394</td>\n",
              "      <td>0.375744</td>\n",
              "      <td>0.526700</td>\n",
              "      <td>-0.144307</td>\n",
              "      <td>-0.347463</td>\n",
              "      <td>-0.941506</td>\n",
              "      <td>0.270161</td>\n",
              "      <td>-0.010031</td>\n",
              "      <td>-0.231827</td>\n",
              "      <td>0.185049</td>\n",
              "      <td>-0.068782</td>\n",
              "      <td>-0.046031</td>\n",
              "      <td>-0.345313</td>\n",
              "    </tr>\n",
              "    <tr>\n",
              "      <th>166387</th>\n",
              "      <td>0.489263</td>\n",
              "      <td>2.043751</td>\n",
              "      <td>-0.177577</td>\n",
              "      <td>-2.040528</td>\n",
              "      <td>0.297271</td>\n",
              "      <td>0.673121</td>\n",
              "      <td>-0.464096</td>\n",
              "      <td>0.412349</td>\n",
              "      <td>-0.227793</td>\n",
              "      <td>0.240261</td>\n",
              "      <td>0.304166</td>\n",
              "      <td>-0.206384</td>\n",
              "      <td>0.425056</td>\n",
              "      <td>-0.554168</td>\n",
              "      <td>0.671432</td>\n",
              "      <td>-1.026733</td>\n",
              "      <td>-0.057696</td>\n",
              "      <td>-0.683512</td>\n",
              "      <td>0.093440</td>\n",
              "      <td>0.807395</td>\n",
              "      <td>-0.168511</td>\n",
              "      <td>-0.028828</td>\n",
              "      <td>0.002328</td>\n",
              "      <td>-0.093060</td>\n",
              "      <td>-0.998132</td>\n",
              "      <td>0.293728</td>\n",
              "      <td>0.421426</td>\n",
              "      <td>-0.097867</td>\n",
              "      <td>-0.089670</td>\n",
              "      <td>-0.197664</td>\n",
              "    </tr>\n",
              "    <tr>\n",
              "      <th>126380</th>\n",
              "      <td>-0.354170</td>\n",
              "      <td>-1.028740</td>\n",
              "      <td>0.783407</td>\n",
              "      <td>2.013125</td>\n",
              "      <td>0.047793</td>\n",
              "      <td>0.381761</td>\n",
              "      <td>-0.100788</td>\n",
              "      <td>0.851027</td>\n",
              "      <td>0.169390</td>\n",
              "      <td>-0.983322</td>\n",
              "      <td>-0.644080</td>\n",
              "      <td>1.511992</td>\n",
              "      <td>0.809079</td>\n",
              "      <td>0.015468</td>\n",
              "      <td>0.354114</td>\n",
              "      <td>-0.088115</td>\n",
              "      <td>0.190407</td>\n",
              "      <td>-0.619442</td>\n",
              "      <td>-0.009339</td>\n",
              "      <td>-1.124233</td>\n",
              "      <td>0.000636</td>\n",
              "      <td>0.219734</td>\n",
              "      <td>0.454106</td>\n",
              "      <td>-0.213934</td>\n",
              "      <td>0.209396</td>\n",
              "      <td>0.521726</td>\n",
              "      <td>-0.416102</td>\n",
              "      <td>0.031386</td>\n",
              "      <td>0.060762</td>\n",
              "      <td>-0.142130</td>\n",
              "    </tr>\n",
              "    <tr>\n",
              "      <th>62161</th>\n",
              "      <td>-0.940360</td>\n",
              "      <td>0.522988</td>\n",
              "      <td>-1.108418</td>\n",
              "      <td>-0.081205</td>\n",
              "      <td>-1.445958</td>\n",
              "      <td>-0.384996</td>\n",
              "      <td>-0.871137</td>\n",
              "      <td>-0.699203</td>\n",
              "      <td>-0.179787</td>\n",
              "      <td>-1.924396</td>\n",
              "      <td>1.607719</td>\n",
              "      <td>-1.522341</td>\n",
              "      <td>-1.272953</td>\n",
              "      <td>0.741150</td>\n",
              "      <td>-0.335018</td>\n",
              "      <td>0.403766</td>\n",
              "      <td>-0.517774</td>\n",
              "      <td>0.286340</td>\n",
              "      <td>0.532781</td>\n",
              "      <td>0.647039</td>\n",
              "      <td>-0.106303</td>\n",
              "      <td>0.095070</td>\n",
              "      <td>0.590239</td>\n",
              "      <td>0.583874</td>\n",
              "      <td>-0.485140</td>\n",
              "      <td>-2.334669</td>\n",
              "      <td>-0.509842</td>\n",
              "      <td>0.415400</td>\n",
              "      <td>0.389878</td>\n",
              "      <td>-0.173316</td>\n",
              "    </tr>\n",
              "    <tr>\n",
              "      <th>248140</th>\n",
              "      <td>1.242252</td>\n",
              "      <td>2.079320</td>\n",
              "      <td>-1.270338</td>\n",
              "      <td>0.559284</td>\n",
              "      <td>-0.393921</td>\n",
              "      <td>-2.014841</td>\n",
              "      <td>-0.398976</td>\n",
              "      <td>-1.618667</td>\n",
              "      <td>0.106634</td>\n",
              "      <td>1.009580</td>\n",
              "      <td>0.509132</td>\n",
              "      <td>-0.955029</td>\n",
              "      <td>-0.053722</td>\n",
              "      <td>-0.066870</td>\n",
              "      <td>-1.172215</td>\n",
              "      <td>-1.060193</td>\n",
              "      <td>0.773782</td>\n",
              "      <td>0.663593</td>\n",
              "      <td>-1.434938</td>\n",
              "      <td>0.647675</td>\n",
              "      <td>-0.091678</td>\n",
              "      <td>0.161708</td>\n",
              "      <td>0.787500</td>\n",
              "      <td>0.294525</td>\n",
              "      <td>0.491761</td>\n",
              "      <td>-0.401517</td>\n",
              "      <td>-0.216919</td>\n",
              "      <td>0.062831</td>\n",
              "      <td>-0.033547</td>\n",
              "      <td>-0.347232</td>\n",
              "    </tr>\n",
              "  </tbody>\n",
              "</table>\n",
              "</div>"
            ],
            "text/plain": [
              "            Time        V1        V2  ...       V27       V28    Amount\n",
              "265007  1.408273  2.065653  0.076528  ... -0.068782 -0.046031 -0.345313\n",
              "166387  0.489263  2.043751 -0.177577  ... -0.097867 -0.089670 -0.197664\n",
              "126380 -0.354170 -1.028740  0.783407  ...  0.031386  0.060762 -0.142130\n",
              "62161  -0.940360  0.522988 -1.108418  ...  0.415400  0.389878 -0.173316\n",
              "248140  1.242252  2.079320 -1.270338  ...  0.062831 -0.033547 -0.347232\n",
              "\n",
              "[5 rows x 30 columns]"
            ]
          },
          "metadata": {
            "tags": []
          },
          "execution_count": 38
        }
      ]
    },
    {
      "cell_type": "markdown",
      "metadata": {
        "id": "VNotSjw8jukh"
      },
      "source": [
        "**Data Normalization**\n",
        "\n"
      ]
    },
    {
      "cell_type": "code",
      "metadata": {
        "colab": {
          "base_uri": "https://localhost:8080/",
          "height": 216
        },
        "id": "R82MPVVUj-8-",
        "outputId": "dd865f1a-ef22-4570-f1d1-63635441da5b"
      },
      "source": [
        "\n",
        "from sklearn.preprocessing import StandardScaler\n",
        "sc= StandardScaler()\n",
        "df[['Time', 'Amount']] = sc.fit_transform(df[['Time', 'Amount']])\n",
        "\n",
        "df.head(5)"
      ],
      "execution_count": 22,
      "outputs": [
        {
          "output_type": "execute_result",
          "data": {
            "text/html": [
              "<div>\n",
              "<style scoped>\n",
              "    .dataframe tbody tr th:only-of-type {\n",
              "        vertical-align: middle;\n",
              "    }\n",
              "\n",
              "    .dataframe tbody tr th {\n",
              "        vertical-align: top;\n",
              "    }\n",
              "\n",
              "    .dataframe thead th {\n",
              "        text-align: right;\n",
              "    }\n",
              "</style>\n",
              "<table border=\"1\" class=\"dataframe\">\n",
              "  <thead>\n",
              "    <tr style=\"text-align: right;\">\n",
              "      <th></th>\n",
              "      <th>Time</th>\n",
              "      <th>V1</th>\n",
              "      <th>V2</th>\n",
              "      <th>V3</th>\n",
              "      <th>V4</th>\n",
              "      <th>V5</th>\n",
              "      <th>V6</th>\n",
              "      <th>V7</th>\n",
              "      <th>V8</th>\n",
              "      <th>V9</th>\n",
              "      <th>V10</th>\n",
              "      <th>V11</th>\n",
              "      <th>V12</th>\n",
              "      <th>V13</th>\n",
              "      <th>V14</th>\n",
              "      <th>V15</th>\n",
              "      <th>V16</th>\n",
              "      <th>V17</th>\n",
              "      <th>V18</th>\n",
              "      <th>V19</th>\n",
              "      <th>V20</th>\n",
              "      <th>V21</th>\n",
              "      <th>V22</th>\n",
              "      <th>V23</th>\n",
              "      <th>V24</th>\n",
              "      <th>V25</th>\n",
              "      <th>V26</th>\n",
              "      <th>V27</th>\n",
              "      <th>V28</th>\n",
              "      <th>Amount</th>\n",
              "      <th>Class</th>\n",
              "    </tr>\n",
              "  </thead>\n",
              "  <tbody>\n",
              "    <tr>\n",
              "      <th>265007</th>\n",
              "      <td>1.408273</td>\n",
              "      <td>2.065653</td>\n",
              "      <td>0.076528</td>\n",
              "      <td>-1.890608</td>\n",
              "      <td>0.190315</td>\n",
              "      <td>0.687719</td>\n",
              "      <td>-0.284586</td>\n",
              "      <td>0.056038</td>\n",
              "      <td>-0.044651</td>\n",
              "      <td>0.304341</td>\n",
              "      <td>-0.201559</td>\n",
              "      <td>0.655757</td>\n",
              "      <td>0.545933</td>\n",
              "      <td>-0.178630</td>\n",
              "      <td>-0.628446</td>\n",
              "      <td>-0.433077</td>\n",
              "      <td>0.665662</td>\n",
              "      <td>0.060394</td>\n",
              "      <td>0.375744</td>\n",
              "      <td>0.526700</td>\n",
              "      <td>-0.144307</td>\n",
              "      <td>-0.347463</td>\n",
              "      <td>-0.941506</td>\n",
              "      <td>0.270161</td>\n",
              "      <td>-0.010031</td>\n",
              "      <td>-0.231827</td>\n",
              "      <td>0.185049</td>\n",
              "      <td>-0.068782</td>\n",
              "      <td>-0.046031</td>\n",
              "      <td>-0.345313</td>\n",
              "      <td>0</td>\n",
              "    </tr>\n",
              "    <tr>\n",
              "      <th>166387</th>\n",
              "      <td>0.489263</td>\n",
              "      <td>2.043751</td>\n",
              "      <td>-0.177577</td>\n",
              "      <td>-2.040528</td>\n",
              "      <td>0.297271</td>\n",
              "      <td>0.673121</td>\n",
              "      <td>-0.464096</td>\n",
              "      <td>0.412349</td>\n",
              "      <td>-0.227793</td>\n",
              "      <td>0.240261</td>\n",
              "      <td>0.304166</td>\n",
              "      <td>-0.206384</td>\n",
              "      <td>0.425056</td>\n",
              "      <td>-0.554168</td>\n",
              "      <td>0.671432</td>\n",
              "      <td>-1.026733</td>\n",
              "      <td>-0.057696</td>\n",
              "      <td>-0.683512</td>\n",
              "      <td>0.093440</td>\n",
              "      <td>0.807395</td>\n",
              "      <td>-0.168511</td>\n",
              "      <td>-0.028828</td>\n",
              "      <td>0.002328</td>\n",
              "      <td>-0.093060</td>\n",
              "      <td>-0.998132</td>\n",
              "      <td>0.293728</td>\n",
              "      <td>0.421426</td>\n",
              "      <td>-0.097867</td>\n",
              "      <td>-0.089670</td>\n",
              "      <td>-0.197664</td>\n",
              "      <td>0</td>\n",
              "    </tr>\n",
              "    <tr>\n",
              "      <th>126380</th>\n",
              "      <td>-0.354170</td>\n",
              "      <td>-1.028740</td>\n",
              "      <td>0.783407</td>\n",
              "      <td>2.013125</td>\n",
              "      <td>0.047793</td>\n",
              "      <td>0.381761</td>\n",
              "      <td>-0.100788</td>\n",
              "      <td>0.851027</td>\n",
              "      <td>0.169390</td>\n",
              "      <td>-0.983322</td>\n",
              "      <td>-0.644080</td>\n",
              "      <td>1.511992</td>\n",
              "      <td>0.809079</td>\n",
              "      <td>0.015468</td>\n",
              "      <td>0.354114</td>\n",
              "      <td>-0.088115</td>\n",
              "      <td>0.190407</td>\n",
              "      <td>-0.619442</td>\n",
              "      <td>-0.009339</td>\n",
              "      <td>-1.124233</td>\n",
              "      <td>0.000636</td>\n",
              "      <td>0.219734</td>\n",
              "      <td>0.454106</td>\n",
              "      <td>-0.213934</td>\n",
              "      <td>0.209396</td>\n",
              "      <td>0.521726</td>\n",
              "      <td>-0.416102</td>\n",
              "      <td>0.031386</td>\n",
              "      <td>0.060762</td>\n",
              "      <td>-0.142130</td>\n",
              "      <td>0</td>\n",
              "    </tr>\n",
              "    <tr>\n",
              "      <th>62161</th>\n",
              "      <td>-0.940360</td>\n",
              "      <td>0.522988</td>\n",
              "      <td>-1.108418</td>\n",
              "      <td>-0.081205</td>\n",
              "      <td>-1.445958</td>\n",
              "      <td>-0.384996</td>\n",
              "      <td>-0.871137</td>\n",
              "      <td>-0.699203</td>\n",
              "      <td>-0.179787</td>\n",
              "      <td>-1.924396</td>\n",
              "      <td>1.607719</td>\n",
              "      <td>-1.522341</td>\n",
              "      <td>-1.272953</td>\n",
              "      <td>0.741150</td>\n",
              "      <td>-0.335018</td>\n",
              "      <td>0.403766</td>\n",
              "      <td>-0.517774</td>\n",
              "      <td>0.286340</td>\n",
              "      <td>0.532781</td>\n",
              "      <td>0.647039</td>\n",
              "      <td>-0.106303</td>\n",
              "      <td>0.095070</td>\n",
              "      <td>0.590239</td>\n",
              "      <td>0.583874</td>\n",
              "      <td>-0.485140</td>\n",
              "      <td>-2.334669</td>\n",
              "      <td>-0.509842</td>\n",
              "      <td>0.415400</td>\n",
              "      <td>0.389878</td>\n",
              "      <td>-0.173316</td>\n",
              "      <td>0</td>\n",
              "    </tr>\n",
              "    <tr>\n",
              "      <th>248140</th>\n",
              "      <td>1.242252</td>\n",
              "      <td>2.079320</td>\n",
              "      <td>-1.270338</td>\n",
              "      <td>0.559284</td>\n",
              "      <td>-0.393921</td>\n",
              "      <td>-2.014841</td>\n",
              "      <td>-0.398976</td>\n",
              "      <td>-1.618667</td>\n",
              "      <td>0.106634</td>\n",
              "      <td>1.009580</td>\n",
              "      <td>0.509132</td>\n",
              "      <td>-0.955029</td>\n",
              "      <td>-0.053722</td>\n",
              "      <td>-0.066870</td>\n",
              "      <td>-1.172215</td>\n",
              "      <td>-1.060193</td>\n",
              "      <td>0.773782</td>\n",
              "      <td>0.663593</td>\n",
              "      <td>-1.434938</td>\n",
              "      <td>0.647675</td>\n",
              "      <td>-0.091678</td>\n",
              "      <td>0.161708</td>\n",
              "      <td>0.787500</td>\n",
              "      <td>0.294525</td>\n",
              "      <td>0.491761</td>\n",
              "      <td>-0.401517</td>\n",
              "      <td>-0.216919</td>\n",
              "      <td>0.062831</td>\n",
              "      <td>-0.033547</td>\n",
              "      <td>-0.347232</td>\n",
              "      <td>0</td>\n",
              "    </tr>\n",
              "  </tbody>\n",
              "</table>\n",
              "</div>"
            ],
            "text/plain": [
              "            Time        V1        V2  ...       V28    Amount  Class\n",
              "265007  1.408273  2.065653  0.076528  ... -0.046031 -0.345313      0\n",
              "166387  0.489263  2.043751 -0.177577  ... -0.089670 -0.197664      0\n",
              "126380 -0.354170 -1.028740  0.783407  ...  0.060762 -0.142130      0\n",
              "62161  -0.940360  0.522988 -1.108418  ...  0.389878 -0.173316      0\n",
              "248140  1.242252  2.079320 -1.270338  ... -0.033547 -0.347232      0\n",
              "\n",
              "[5 rows x 31 columns]"
            ]
          },
          "metadata": {
            "tags": []
          },
          "execution_count": 22
        }
      ]
    },
    {
      "cell_type": "code",
      "metadata": {
        "id": "llmPhWhvj_Hu"
      },
      "source": [
        ""
      ],
      "execution_count": null,
      "outputs": []
    },
    {
      "cell_type": "markdown",
      "metadata": {
        "id": "kZ3eDu2miyT9"
      },
      "source": [
        "**5.Model :**\n",
        "Input Layer (No. of features ), 3 hidden layers including 10,8,6 unit & Output"
      ]
    },
    {
      "cell_type": "code",
      "metadata": {
        "id": "S_q6_Sdhj-P-"
      },
      "source": [
        "from tensorflow.keras.models import Sequential\n",
        "from tensorflow.keras import layers\n",
        "from tensorflow.keras import regularizers\n",
        "\n",
        "network = Sequential()\n",
        "\n",
        "network.add(layers.Dense(10, activation='relu', kernel_regularizer =regularizers.l2(0.02),   input_shape=(X.shape[1],)))\n",
        "network.add(layers.Dense(8, activation='relu', kernel_regularizer =regularizers.l2(0.02)))\n",
        "network.add(layers.Dense(6, activation='relu', kernel_regularizer =regularizers.l2(0.002)))\n",
        "network.add(layers.Dense(1))"
      ],
      "execution_count": null,
      "outputs": []
    },
    {
      "cell_type": "code",
      "metadata": {
        "id": "YNypUd4lgQMc"
      },
      "source": [
        ""
      ],
      "execution_count": null,
      "outputs": []
    },
    {
      "cell_type": "code",
      "metadata": {
        "id": "nMrrt7lRgQMc"
      },
      "source": [
        ""
      ],
      "execution_count": null,
      "outputs": []
    },
    {
      "cell_type": "markdown",
      "metadata": {
        "id": "Y-u1LCxWi485"
      },
      "source": [
        "**6.Compilation Step**\n",
        "(Note : Its a Binary problem , select loss , metrics according to it)"
      ]
    },
    {
      "cell_type": "code",
      "metadata": {
        "id": "0kl4hmTSgQMd"
      },
      "source": [
        "network.compile(optimizer='rmsprop', loss='Binary_crossentropy', metrics='mae')\n",
        "history = network.fit(x_train_50,y_train_50, batch_size=16, verbose=0, epochs=200, validation_data=(x_valid_20, y_valid_20))"
      ],
      "execution_count": null,
      "outputs": []
    },
    {
      "cell_type": "markdown",
      "metadata": {
        "id": "-sw4YdYZi9zs"
      },
      "source": [
        "**7.Train the Model**\n",
        "with Epochs (100)."
      ]
    },
    {
      "cell_type": "code",
      "metadata": {
        "id": "Qx1_GRjojKat"
      },
      "source": [
        ""
      ],
      "execution_count": null,
      "outputs": []
    },
    {
      "cell_type": "code",
      "metadata": {
        "id": "2JxXXSD4jKj7"
      },
      "source": [
        ""
      ],
      "execution_count": null,
      "outputs": []
    },
    {
      "cell_type": "markdown",
      "metadata": {
        "id": "QXo73FTbjFxq"
      },
      "source": [
        "**8.Prediction**\n",
        "should "
      ]
    },
    {
      "cell_type": "code",
      "metadata": {
        "id": "FK75Q1B1jLFb"
      },
      "source": [
        ""
      ],
      "execution_count": null,
      "outputs": []
    }
  ]
}