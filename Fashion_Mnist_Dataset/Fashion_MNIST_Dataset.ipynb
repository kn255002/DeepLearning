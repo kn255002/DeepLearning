{
  "nbformat": 4,
  "nbformat_minor": 0,
  "metadata": {
    "colab": {
      "name": "Fashion MNIST Dataset",
      "provenance": [],
      "collapsed_sections": []
    },
    "kernelspec": {
      "name": "python3",
      "display_name": "Python 3"
    },
    "language_info": {
      "name": "python"
    }
  },
  "cells": [
    {
      "cell_type": "markdown",
      "metadata": {
        "id": "PVNrL3VfK0rd"
      },
      "source": [
        "**Fashion MNIST Dataset**"
      ]
    },
    {
      "cell_type": "code",
      "metadata": {
        "id": "aFtU-gjdBBQi",
        "colab": {
          "base_uri": "https://localhost:8080/"
        },
        "outputId": "2c5f60df-bcd6-4d5c-e7a3-9e10e90d10f2"
      },
      "source": [
        "from tensorflow.keras.datasets import fashion_mnist\n",
        "#The above keras provides data also. We are splitting data into four sets. \n",
        "(train_images, train_labels), (test_images, test_labels) = fashion_mnist.load_data()\n",
        "\n",
        "print(len(train_images))\n",
        "print(len(train_labels))\n",
        "print(len(test_images))\n",
        "print(len(test_labels))"
      ],
      "execution_count": 29,
      "outputs": [
        {
          "output_type": "stream",
          "text": [
            "60000\n",
            "60000\n",
            "10000\n",
            "10000\n"
          ],
          "name": "stdout"
        }
      ]
    },
    {
      "cell_type": "code",
      "metadata": {
        "id": "XBIGpndKC2oR"
      },
      "source": [
        "from tensorflow.keras import models\n",
        "from tensorflow.keras import layers\n",
        "import tensorflow as tf\n",
        "model=models.Sequential()"
      ],
      "execution_count": 30,
      "outputs": []
    },
    {
      "cell_type": "code",
      "metadata": {
        "id": "YnhP4c8pDQ0H"
      },
      "source": [
        "#MODEL preparing\n",
        "\n",
        "model.add(layers.Dense(512,activation='relu',input_shape=(28*28,)))\n",
        "model.add(layers.Dense(128, activation='relu'))\n",
        "model.add(layers.Dense(10,activation=tf.nn.sigmoid))\n",
        "\n",
        "#The above layer is using 10 Neurons. Becuase we have 10 lables and want to do Classification.\n",
        "#Softmax generates 10 possibilities (i.e. The highest probability will be selected and permuted as 1 rest will be 0).\n",
        "#Hence, output layer will return 10 nodes.\n",
        "#While Regerssion is to predict data and it always returns 1 value/node."
      ],
      "execution_count": 31,
      "outputs": []
    },
    {
      "cell_type": "code",
      "metadata": {
        "id": "yq_CUOwoEWli",
        "colab": {
          "base_uri": "https://localhost:8080/"
        },
        "outputId": "3e8200b1-3261-4a59-bde8-1389790bcd75"
      },
      "source": [
        "# Compilation\n",
        "model.compile(optimizer='rmsprop', loss='categorical_crossentropy', metrics=['accuracy'])\n",
        "#Loss fun=categorical_crossentropy because its Multiclassification.\n",
        "train_images.ndim"
      ],
      "execution_count": 32,
      "outputs": [
        {
          "output_type": "execute_result",
          "data": {
            "text/plain": [
              "3"
            ]
          },
          "metadata": {
            "tags": []
          },
          "execution_count": 32
        }
      ]
    },
    {
      "cell_type": "code",
      "metadata": {
        "colab": {
          "base_uri": "https://localhost:8080/"
        },
        "id": "F0lhE4Ox-TPm",
        "outputId": "05adfb82-bb7b-4833-e87a-22c9a0d18d67"
      },
      "source": [
        "#Image data normalization i.e. divided by 255\n",
        "train_images=train_images.reshape(60000,28*28)\n",
        "train_images=train_images.astype('float32')/255  # Normalization\n",
        "\n",
        "test_images=test_images.reshape(10000,28*28)\n",
        "test_images=test_images.astype('float32')/255  # Normalization\n",
        "\n",
        "# Preparing Labels\n",
        "train_labels[3]"
      ],
      "execution_count": 33,
      "outputs": [
        {
          "output_type": "execute_result",
          "data": {
            "text/plain": [
              "3"
            ]
          },
          "metadata": {
            "tags": []
          },
          "execution_count": 33
        }
      ]
    },
    {
      "cell_type": "code",
      "metadata": {
        "colab": {
          "base_uri": "https://localhost:8080/"
        },
        "id": "Tq0A4wmd-fdZ",
        "outputId": "42167532-9781-4242-b7ba-8d19f14f30d3"
      },
      "source": [
        "# One Hot Encoding\n",
        "from tensorflow.keras.utils import to_categorical\n",
        "train_labels=to_categorical(train_labels)\n",
        "test_labels=to_categorical(test_labels)\n",
        "\n",
        "train_labels[3]"
      ],
      "execution_count": 34,
      "outputs": [
        {
          "output_type": "execute_result",
          "data": {
            "text/plain": [
              "array([0., 0., 0., 1., 0., 0., 0., 0., 0., 0.], dtype=float32)"
            ]
          },
          "metadata": {
            "tags": []
          },
          "execution_count": 34
        }
      ]
    },
    {
      "cell_type": "code",
      "metadata": {
        "colab": {
          "base_uri": "https://localhost:8080/"
        },
        "id": "8mS95ZXE-oFB",
        "outputId": "e9dac6ff-1421-4516-fbcd-7e2b15cb9bc5"
      },
      "source": [
        "#Now fit the model.\n",
        "model.fit(train_images,train_labels,epochs=10,batch_size=128)"
      ],
      "execution_count": 35,
      "outputs": [
        {
          "output_type": "stream",
          "text": [
            "Epoch 1/10\n",
            "469/469 [==============================] - 6s 11ms/step - loss: 0.7907 - accuracy: 0.7092\n",
            "Epoch 2/10\n",
            "469/469 [==============================] - 5s 11ms/step - loss: 0.3999 - accuracy: 0.8537\n",
            "Epoch 3/10\n",
            "469/469 [==============================] - 5s 11ms/step - loss: 0.3448 - accuracy: 0.8711\n",
            "Epoch 4/10\n",
            "469/469 [==============================] - 5s 11ms/step - loss: 0.3186 - accuracy: 0.8833\n",
            "Epoch 5/10\n",
            "469/469 [==============================] - 5s 11ms/step - loss: 0.2950 - accuracy: 0.8897\n",
            "Epoch 6/10\n",
            "469/469 [==============================] - 5s 11ms/step - loss: 0.2785 - accuracy: 0.8960\n",
            "Epoch 7/10\n",
            "469/469 [==============================] - 5s 11ms/step - loss: 0.2637 - accuracy: 0.9007\n",
            "Epoch 8/10\n",
            "469/469 [==============================] - 5s 11ms/step - loss: 0.2553 - accuracy: 0.9057\n",
            "Epoch 9/10\n",
            "469/469 [==============================] - 5s 11ms/step - loss: nan - accuracy: 0.3113\n",
            "Epoch 10/10\n",
            "469/469 [==============================] - 5s 11ms/step - loss: nan - accuracy: 0.1008\n"
          ],
          "name": "stdout"
        },
        {
          "output_type": "execute_result",
          "data": {
            "text/plain": [
              "<tensorflow.python.keras.callbacks.History at 0x7fe1577bc050>"
            ]
          },
          "metadata": {
            "tags": []
          },
          "execution_count": 35
        }
      ]
    },
    {
      "cell_type": "code",
      "metadata": {
        "colab": {
          "base_uri": "https://localhost:8080/"
        },
        "id": "SWvpWRu8_S5F",
        "outputId": "18753e50-17fd-40d1-fa98-eb1ea494399b"
      },
      "source": [
        "#EVALUATE THE MODEL\n",
        "\n",
        "test_loss, test_acc = model.evaluate(test_images, test_labels)\n",
        "print(\"Test Loss: \", test_loss)\n",
        "print(\"Test Accuracy:\", test_acc )"
      ],
      "execution_count": 37,
      "outputs": [
        {
          "output_type": "stream",
          "text": [
            "313/313 [==============================] - 1s 2ms/step - loss: nan - accuracy: 0.1000\n",
            "Test Loss:  nan\n",
            "Test Accuracy: 0.10000000149011612\n"
          ],
          "name": "stdout"
        }
      ]
    },
    {
      "cell_type": "code",
      "metadata": {
        "id": "kKrsz1Lk_tkf"
      },
      "source": [
        ""
      ],
      "execution_count": null,
      "outputs": []
    }
  ]
}